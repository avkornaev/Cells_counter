{
  "nbformat": 4,
  "nbformat_minor": 0,
  "metadata": {
    "colab": {
      "provenance": [],
      "authorship_tag": "ABX9TyPFdnGnNysN4vNSf4zyZ0eH",
      "include_colab_link": true
    },
    "kernelspec": {
      "name": "python3",
      "display_name": "Python 3"
    },
    "language_info": {
      "name": "python"
    }
  },
  "cells": [
    {
      "cell_type": "markdown",
      "metadata": {
        "id": "view-in-github",
        "colab_type": "text"
      },
      "source": [
        "<a href=\"https://colab.research.google.com/github/avkornaev/Cells_counter/blob/main/05_1_gradientDescent_torch_enhanced.ipynb\" target=\"_parent\"><img src=\"https://colab.research.google.com/assets/colab-badge.svg\" alt=\"Open In Colab\"/></a>"
      ]
    },
    {
      "cell_type": "markdown",
      "source": [
        "# Import libraries"
      ],
      "metadata": {
        "id": "cUmKjfNTKMkh"
      }
    },
    {
      "cell_type": "code",
      "execution_count": 1,
      "metadata": {
        "id": "w4v7kmaLJ_O0"
      },
      "outputs": [],
      "source": [
        "import torch\n"
      ]
    },
    {
      "cell_type": "markdown",
      "source": [
        "## Initialization"
      ],
      "metadata": {
        "id": "jNtgNQ3AK5RH"
      }
    },
    {
      "cell_type": "code",
      "source": [
        "#y=2*x\n",
        "X = torch.tensor([1,2,3,4], dtype=torch.float32)\n",
        "Y = torch.tensor([2,4,6,8], dtype=torch.float32)\n",
        "\n",
        "w = torch.tensor(0.0, dtype=torch.float32, requires_grad=True)"
      ],
      "metadata": {
        "id": "fJRe0MBjKMF5"
      },
      "execution_count": 2,
      "outputs": []
    },
    {
      "cell_type": "markdown",
      "source": [
        "## Model prediction"
      ],
      "metadata": {
        "id": "9wT0jf47K0Cu"
      }
    },
    {
      "cell_type": "code",
      "source": [
        "def forward(x):\n",
        "  return w*x\n",
        "print(f'Prediction before training: f(5) = {forward(5):.3f}')"
      ],
      "metadata": {
        "id": "mMkRXn6sKxKe",
        "colab": {
          "base_uri": "https://localhost:8080/"
        },
        "outputId": "00324d21-ea42-45cf-9448-f9dcee3c579d"
      },
      "execution_count": 3,
      "outputs": [
        {
          "output_type": "stream",
          "name": "stdout",
          "text": [
            "Prediction before training: f(5) = 0.000\n"
          ]
        }
      ]
    },
    {
      "cell_type": "markdown",
      "source": [
        "## Loss that is MSE (mean square error)"
      ],
      "metadata": {
        "id": "Jo4e6JrULHfg"
      }
    },
    {
      "cell_type": "code",
      "source": [
        "def loss(y, y_predicted):\n",
        "  return ((y_predicted - y)**2).mean()"
      ],
      "metadata": {
        "id": "r1cSn3uicCJ5"
      },
      "execution_count": 4,
      "outputs": []
    },
    {
      "cell_type": "markdown",
      "source": [
        "# Training"
      ],
      "metadata": {
        "id": "WQJqt-DNYeBo"
      }
    },
    {
      "cell_type": "code",
      "source": [
        "lr = 0.01\n",
        "n = 1000\n",
        "\n",
        "for epoch in range(n):\n",
        "  #prediciton\n",
        "  y_pred = forward(X)\n",
        "  #loss\n",
        "  L = loss(Y, y_pred)\n",
        "  #gradients\n",
        "  L.backward()\n",
        "  #update\n",
        "  with torch.no_grad():\n",
        "    w -= lr*w.grad\n",
        "  w.grad.zero_()\n",
        "\n",
        "  if epoch % 100 == 0:\n",
        "    print(f'epoch {epoch+1}: w = {w:.3f}, loss = {L:.8f}')\n",
        "\n",
        "print(f'Prediction after training: f(5) = {forward(5):.3f}')  "
      ],
      "metadata": {
        "colab": {
          "base_uri": "https://localhost:8080/"
        },
        "id": "HZ4xOWowYHgl",
        "outputId": "bf14afe4-5259-499d-8dfb-9f01379bdde0"
      },
      "execution_count": 5,
      "outputs": [
        {
          "output_type": "stream",
          "name": "stdout",
          "text": [
            "epoch 1: w = 0.300, loss = 30.00000000\n",
            "epoch 101: w = 2.000, loss = 0.00000000\n",
            "epoch 201: w = 2.000, loss = 0.00000000\n",
            "epoch 301: w = 2.000, loss = 0.00000000\n",
            "epoch 401: w = 2.000, loss = 0.00000000\n",
            "epoch 501: w = 2.000, loss = 0.00000000\n",
            "epoch 601: w = 2.000, loss = 0.00000000\n",
            "epoch 701: w = 2.000, loss = 0.00000000\n",
            "epoch 801: w = 2.000, loss = 0.00000000\n",
            "epoch 901: w = 2.000, loss = 0.00000000\n",
            "Prediction after training: f(5) = 10.000\n"
          ]
        }
      ]
    },
    {
      "cell_type": "code",
      "source": [],
      "metadata": {
        "id": "lv74PTpfZuQc"
      },
      "execution_count": 5,
      "outputs": []
    },
    {
      "cell_type": "code",
      "source": [],
      "metadata": {
        "id": "-p7PDIVfalV8"
      },
      "execution_count": 5,
      "outputs": []
    }
  ]
}