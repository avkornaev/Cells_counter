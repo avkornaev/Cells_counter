{
  "nbformat": 4,
  "nbformat_minor": 0,
  "metadata": {
    "colab": {
      "name": "Cells_counter_based_on_watersheed_method_v12",
      "provenance": [],
      "collapsed_sections": [
        "QvjlGUA_90C2",
        "OqpYSO9X_056",
        "IPddrbrppwyn",
        "Rn8IF4nOw97N"
      ],
      "mount_file_id": "1gqEuNxwrQhfVpe5kg6rU22AHxuuf5urN",
      "authorship_tag": "ABX9TyOzJ13HmJ2h/letVwqdXEdV",
      "include_colab_link": true
    },
    "kernelspec": {
      "display_name": "Python 3",
      "name": "python3"
    },
    "language_info": {
      "name": "python"
    }
  },
  "cells": [
    {
      "cell_type": "markdown",
      "metadata": {
        "id": "view-in-github",
        "colab_type": "text"
      },
      "source": [
        "<a href=\"https://colab.research.google.com/github/avkornaev/Cells_counter/blob/main/Cells_counter_based_on_watersheed_method_v12.ipynb\" target=\"_parent\"><img src=\"https://colab.research.google.com/assets/colab-badge.svg\" alt=\"Open In Colab\"/></a>"
      ]
    },
    {
      "cell_type": "markdown",
      "metadata": {
        "id": "PQY2xOF_dr6c"
      },
      "source": [
        "Summary.\n",
        "\n",
        "The cells counter algorithm is based on watershed method. If you want to know more, please check the following links: https://imagej.net/plugins/classic-watershed,\n",
        "https://docs.opencv.org/master/d3/db4/tutorial_py_watershed.html"
      ]
    },
    {
      "cell_type": "markdown",
      "metadata": {
        "id": "QvjlGUA_90C2"
      },
      "source": [
        "#**Install libraries**.\n",
        "\n",
        "Execute code bellow just once to install the libraries. Then you may comment 'pip' lines using # at the begining of lines of the code."
      ]
    },
    {
      "cell_type": "code",
      "metadata": {
        "id": "JOSgxVVtwhBQ",
        "colab": {
          "base_uri": "https://localhost:8080/"
        },
        "outputId": "e7dfe689-3d7c-4a5b-ffe7-29ae95878822"
      },
      "source": [
        "!pip install -Uqq fastbook\n",
        "!pip install czifile\n",
        "!pip install tifffile\n",
        "!pip install imagecodecs"
      ],
      "execution_count": 1,
      "outputs": [
        {
          "output_type": "stream",
          "name": "stdout",
          "text": [
            "Requirement already satisfied: czifile in /usr/local/lib/python3.7/dist-packages (2019.7.2)\n",
            "Requirement already satisfied: numpy>=1.11.3 in /usr/local/lib/python3.7/dist-packages (from czifile) (1.19.5)\n",
            "Requirement already satisfied: tifffile>=2019.7.2 in /usr/local/lib/python3.7/dist-packages (from czifile) (2021.10.12)\n",
            "Requirement already satisfied: tifffile in /usr/local/lib/python3.7/dist-packages (2021.10.12)\n",
            "Requirement already satisfied: numpy>=1.15.1 in /usr/local/lib/python3.7/dist-packages (from tifffile) (1.19.5)\n",
            "Requirement already satisfied: imagecodecs in /usr/local/lib/python3.7/dist-packages (2021.8.26)\n",
            "Requirement already satisfied: numpy>=1.15.1 in /usr/local/lib/python3.7/dist-packages (from imagecodecs) (1.19.5)\n"
          ]
        }
      ]
    },
    {
      "cell_type": "markdown",
      "metadata": {
        "id": "x-4KWkun_4cg"
      },
      "source": [
        "#**Connect to Google disk.**"
      ]
    },
    {
      "cell_type": "code",
      "metadata": {
        "id": "nWfh1iaz__LW",
        "colab": {
          "base_uri": "https://localhost:8080/"
        },
        "outputId": "09b655d6-6222-4b72-b09c-ec49314b5124"
      },
      "source": [
        "from google.colab import drive\n",
        "drive.mount('/content/drive')"
      ],
      "execution_count": 2,
      "outputs": [
        {
          "output_type": "stream",
          "name": "stdout",
          "text": [
            "Drive already mounted at /content/drive; to attempt to forcibly remount, call drive.mount(\"/content/drive\", force_remount=True).\n"
          ]
        }
      ]
    },
    {
      "cell_type": "markdown",
      "metadata": {
        "id": "OqpYSO9X_056"
      },
      "source": [
        "# **Import libraries.**"
      ]
    },
    {
      "cell_type": "code",
      "metadata": {
        "id": "88fVKPtEwtqk"
      },
      "source": [
        "import fastbook\n",
        "from fastbook import *\n",
        "import cv2\n",
        "import numpy as np\n",
        "from matplotlib import pyplot as plt\n",
        "import matplotlib.patches as mpatches\n",
        "from google.colab.patches import cv2_imshow\n",
        "from scipy import ndimage\n",
        "from skimage import measure, color, io, img_as_ubyte, img_as_float\n",
        "from skimage.restoration import denoise_nl_means, estimate_sigma\n",
        "from skimage.segmentation import clear_border, join_segmentations\n",
        "import pandas as pd\n",
        "import czifile\n",
        "import imagecodecs\n",
        "#import tifffile"
      ],
      "execution_count": 3,
      "outputs": []
    },
    {
      "cell_type": "markdown",
      "metadata": {
        "id": "lNtNiCnrNZgP"
      },
      "source": [
        "#**Check the settings.**"
      ]
    },
    {
      "cell_type": "code",
      "metadata": {
        "id": "G2NvWwYNNZ3n"
      },
      "source": [
        "#Image under study\n",
        "img_path = '/content/drive/MyDrive/Cells_counter/Init_Images/'\n",
        "img_title = 'B16_1122_2_2.czi'#'1122_1.czi' # 'B16_control 2_2.czi'\n",
        "pixels2microns = 0.396 #scale factor (check the image properties in Zen or Apeer)\n",
        "\n",
        "#Normalization parameters. The paramenters were obtained on the base of analysis of 97 czi images\n",
        "mean_values = [465, 1227, 0] #mean values of intensities for the 0 channel 'fluo4-T1' (highlights the apoptosed cells), the 1st channel 'H3342-T2' and the 3rd fake channel of zero values\n",
        "std_values = [2948, 6043, 0] # std values of intensities fro the...\n",
        "\n",
        "#Visualisation\n",
        "img_size = [] # empty [] or rectangle coordinates, e.g. [0,0,1024,1024]\n",
        "fig_size = (30,30) # figures size\n",
        "img_map  = 'Blues' # image map. For example, 'gray','hot','jet','Blues' et al. If you want to know more, please type the following code: help(plt.imshow)\n",
        "img_map1 = 'jet'\n",
        "\n",
        "font = cv2.FONT_HERSHEY_SIMPLEX\n",
        "fontScale = 1\n",
        "fontColor = (255,255,255)\n",
        "lineType  = 2\n",
        "\n",
        "#Filtering\n",
        "kernel = np.ones((5,5),np.uint8)\n",
        "kernel4filt = 5\n",
        "ps = 5 # patch_size\n",
        "patchDist = 3 # patch_distance\n",
        "hc = 1.15 # coefficient\n",
        "\n",
        "numberOfIter = 2 #number of iterations\n",
        "dist_transf_ratio = 0.1 # distance transform ratio\n",
        "dist_transf_param = 5\n",
        "markers_bias = 100\n",
        "\n",
        "clearBorder = 'off' # delete markers at the borders: 'on' or 'off'"
      ],
      "execution_count": 4,
      "outputs": []
    },
    {
      "cell_type": "markdown",
      "metadata": {
        "id": "1AM_LXO0yt4q"
      },
      "source": [
        "#**Download \"czi\" image and create slices of the image.**"
      ]
    },
    {
      "cell_type": "code",
      "metadata": {
        "colab": {
          "base_uri": "https://localhost:8080/",
          "height": 128
        },
        "id": "BAlRIDovKAoI",
        "outputId": "02438de6-10da-42c7-fed1-384b703298ea"
      },
      "source": [
        "#flow chart visualisation\n",
        "gv('''slice[shape=box3d width=1 height=1] filter[shape=box3d width=1 height=0.7] threshold[shape=box3d width=1 height=0.7] denoise[shape=box3d width=1 height=0.7] identify[shape=box3d width=1 height=0.7] calculate[shape=box3d width=1 height=0.7]\n",
        "image->slice->filter->threshold->denoise->identify->calculate->results''')"
      ],
      "execution_count": 5,
      "outputs": [
        {
          "output_type": "execute_result",
          "data": {
            "text/plain": [
              "<graphviz.files.Source at 0x7f469d643190>"
            ],
            "image/svg+xml": "<?xml version=\"1.0\" encoding=\"UTF-8\" standalone=\"no\"?>\n<!DOCTYPE svg PUBLIC \"-//W3C//DTD SVG 1.1//EN\"\n \"http://www.w3.org/Graphics/SVG/1.1/DTD/svg11.dtd\">\n<!-- Generated by graphviz version 2.40.1 (20161225.0304)\n -->\n<!-- Title: G Pages: 1 -->\n<svg width=\"827pt\" height=\"80pt\"\n viewBox=\"0.00 0.00 827.19 80.00\" xmlns=\"http://www.w3.org/2000/svg\" xmlns:xlink=\"http://www.w3.org/1999/xlink\">\n<g id=\"graph0\" class=\"graph\" transform=\"scale(1 1) rotate(0) translate(4 76)\">\n<title>G</title>\n<polygon fill=\"#ffffff\" stroke=\"transparent\" points=\"-4,4 -4,-76 823.188,-76 823.188,4 -4,4\"/>\n<!-- slice -->\n<g id=\"node1\" class=\"node\">\n<title>slice</title>\n<polygon fill=\"none\" stroke=\"#000000\" points=\"174.2941,-72 106.2941,-72 102.2941,-68 102.2941,0 170.2941,0 174.2941,-4 174.2941,-72\"/>\n<polyline fill=\"none\" stroke=\"#000000\" points=\"170.2941,-68 102.2941,-68 \"/>\n<polyline fill=\"none\" stroke=\"#000000\" points=\"170.2941,-68 170.2941,0 \"/>\n<polyline fill=\"none\" stroke=\"#000000\" points=\"170.2941,-68 174.2941,-72 \"/>\n<text text-anchor=\"middle\" x=\"138.2941\" y=\"-32.3\" font-family=\"Times,serif\" font-size=\"14.00\" fill=\"#000000\">slice</text>\n</g>\n<!-- filter -->\n<g id=\"node2\" class=\"node\">\n<title>filter</title>\n<polygon fill=\"none\" stroke=\"#000000\" points=\"282.2941,-61 214.2941,-61 210.2941,-57 210.2941,-11 278.2941,-11 282.2941,-15 282.2941,-61\"/>\n<polyline fill=\"none\" stroke=\"#000000\" points=\"278.2941,-57 210.2941,-57 \"/>\n<polyline fill=\"none\" stroke=\"#000000\" points=\"278.2941,-57 278.2941,-11 \"/>\n<polyline fill=\"none\" stroke=\"#000000\" points=\"278.2941,-57 282.2941,-61 \"/>\n<text text-anchor=\"middle\" x=\"246.2941\" y=\"-32.3\" font-family=\"Times,serif\" font-size=\"14.00\" fill=\"#000000\">filter</text>\n</g>\n<!-- slice&#45;&gt;filter -->\n<g id=\"edge2\" class=\"edge\">\n<title>slice&#45;&gt;filter</title>\n<path fill=\"none\" stroke=\"#000000\" d=\"M174.557,-36C182.6603,-36 191.363,-36 199.815,-36\"/>\n<polygon fill=\"#000000\" stroke=\"#000000\" points=\"199.9431,-39.5001 209.9431,-36 199.9431,-32.5001 199.9431,-39.5001\"/>\n</g>\n<!-- threshold -->\n<g id=\"node3\" class=\"node\">\n<title>threshold</title>\n<polygon fill=\"none\" stroke=\"#000000\" points=\"390.2941,-61 322.2941,-61 318.2941,-57 318.2941,-11 386.2941,-11 390.2941,-15 390.2941,-61\"/>\n<polyline fill=\"none\" stroke=\"#000000\" points=\"386.2941,-57 318.2941,-57 \"/>\n<polyline fill=\"none\" stroke=\"#000000\" points=\"386.2941,-57 386.2941,-11 \"/>\n<polyline fill=\"none\" stroke=\"#000000\" points=\"386.2941,-57 390.2941,-61 \"/>\n<text text-anchor=\"middle\" x=\"354.2941\" y=\"-32.3\" font-family=\"Times,serif\" font-size=\"14.00\" fill=\"#000000\">threshold</text>\n</g>\n<!-- filter&#45;&gt;threshold -->\n<g id=\"edge3\" class=\"edge\">\n<title>filter&#45;&gt;threshold</title>\n<path fill=\"none\" stroke=\"#000000\" d=\"M282.557,-36C290.6603,-36 299.363,-36 307.815,-36\"/>\n<polygon fill=\"#000000\" stroke=\"#000000\" points=\"307.9431,-39.5001 317.9431,-36 307.9431,-32.5001 307.9431,-39.5001\"/>\n</g>\n<!-- denoise -->\n<g id=\"node4\" class=\"node\">\n<title>denoise</title>\n<polygon fill=\"none\" stroke=\"#000000\" points=\"498.2941,-61 430.2941,-61 426.2941,-57 426.2941,-11 494.2941,-11 498.2941,-15 498.2941,-61\"/>\n<polyline fill=\"none\" stroke=\"#000000\" points=\"494.2941,-57 426.2941,-57 \"/>\n<polyline fill=\"none\" stroke=\"#000000\" points=\"494.2941,-57 494.2941,-11 \"/>\n<polyline fill=\"none\" stroke=\"#000000\" points=\"494.2941,-57 498.2941,-61 \"/>\n<text text-anchor=\"middle\" x=\"462.2941\" y=\"-32.3\" font-family=\"Times,serif\" font-size=\"14.00\" fill=\"#000000\">denoise</text>\n</g>\n<!-- threshold&#45;&gt;denoise -->\n<g id=\"edge4\" class=\"edge\">\n<title>threshold&#45;&gt;denoise</title>\n<path fill=\"none\" stroke=\"#000000\" d=\"M390.557,-36C398.6603,-36 407.363,-36 415.815,-36\"/>\n<polygon fill=\"#000000\" stroke=\"#000000\" points=\"415.9431,-39.5001 425.9431,-36 415.9431,-32.5001 415.9431,-39.5001\"/>\n</g>\n<!-- identify -->\n<g id=\"node5\" class=\"node\">\n<title>identify</title>\n<polygon fill=\"none\" stroke=\"#000000\" points=\"606.2941,-61 538.2941,-61 534.2941,-57 534.2941,-11 602.2941,-11 606.2941,-15 606.2941,-61\"/>\n<polyline fill=\"none\" stroke=\"#000000\" points=\"602.2941,-57 534.2941,-57 \"/>\n<polyline fill=\"none\" stroke=\"#000000\" points=\"602.2941,-57 602.2941,-11 \"/>\n<polyline fill=\"none\" stroke=\"#000000\" points=\"602.2941,-57 606.2941,-61 \"/>\n<text text-anchor=\"middle\" x=\"570.2941\" y=\"-32.3\" font-family=\"Times,serif\" font-size=\"14.00\" fill=\"#000000\">identify</text>\n</g>\n<!-- denoise&#45;&gt;identify -->\n<g id=\"edge5\" class=\"edge\">\n<title>denoise&#45;&gt;identify</title>\n<path fill=\"none\" stroke=\"#000000\" d=\"M498.557,-36C506.6603,-36 515.363,-36 523.815,-36\"/>\n<polygon fill=\"#000000\" stroke=\"#000000\" points=\"523.9431,-39.5001 533.9431,-36 523.9431,-32.5001 523.9431,-39.5001\"/>\n</g>\n<!-- calculate -->\n<g id=\"node6\" class=\"node\">\n<title>calculate</title>\n<polygon fill=\"none\" stroke=\"#000000\" points=\"714.2941,-61 646.2941,-61 642.2941,-57 642.2941,-11 710.2941,-11 714.2941,-15 714.2941,-61\"/>\n<polyline fill=\"none\" stroke=\"#000000\" points=\"710.2941,-57 642.2941,-57 \"/>\n<polyline fill=\"none\" stroke=\"#000000\" points=\"710.2941,-57 710.2941,-11 \"/>\n<polyline fill=\"none\" stroke=\"#000000\" points=\"710.2941,-57 714.2941,-61 \"/>\n<text text-anchor=\"middle\" x=\"678.2941\" y=\"-32.3\" font-family=\"Times,serif\" font-size=\"14.00\" fill=\"#000000\">calculate</text>\n</g>\n<!-- identify&#45;&gt;calculate -->\n<g id=\"edge6\" class=\"edge\">\n<title>identify&#45;&gt;calculate</title>\n<path fill=\"none\" stroke=\"#000000\" d=\"M606.557,-36C614.6603,-36 623.363,-36 631.815,-36\"/>\n<polygon fill=\"#000000\" stroke=\"#000000\" points=\"631.9431,-39.5001 641.9431,-36 631.9431,-32.5001 631.9431,-39.5001\"/>\n</g>\n<!-- results -->\n<g id=\"node8\" class=\"node\">\n<title>results</title>\n<ellipse fill=\"none\" stroke=\"#000000\" cx=\"784.7411\" cy=\"-36\" rx=\"34.394\" ry=\"18\"/>\n<text text-anchor=\"middle\" x=\"784.7411\" y=\"-32.3\" font-family=\"Times,serif\" font-size=\"14.00\" fill=\"#000000\">results</text>\n</g>\n<!-- calculate&#45;&gt;results -->\n<g id=\"edge7\" class=\"edge\">\n<title>calculate&#45;&gt;results</title>\n<path fill=\"none\" stroke=\"#000000\" d=\"M714.3322,-36C722.5651,-36 731.4127,-36 739.9619,-36\"/>\n<polygon fill=\"#000000\" stroke=\"#000000\" points=\"740.1808,-39.5001 750.1808,-36 740.1808,-32.5001 740.1808,-39.5001\"/>\n</g>\n<!-- image -->\n<g id=\"node7\" class=\"node\">\n<title>image</title>\n<ellipse fill=\"none\" stroke=\"#000000\" cx=\"33.1471\" cy=\"-36\" rx=\"33.2948\" ry=\"18\"/>\n<text text-anchor=\"middle\" x=\"33.1471\" y=\"-32.3\" font-family=\"Times,serif\" font-size=\"14.00\" fill=\"#000000\">image</text>\n</g>\n<!-- image&#45;&gt;slice -->\n<g id=\"edge1\" class=\"edge\">\n<title>image&#45;&gt;slice</title>\n<path fill=\"none\" stroke=\"#000000\" d=\"M66.4162,-36C74.4578,-36 83.199,-36 91.7267,-36\"/>\n<polygon fill=\"#000000\" stroke=\"#000000\" points=\"91.9613,-39.5001 101.9612,-36 91.9612,-32.5001 91.9613,-39.5001\"/>\n</g>\n</g>\n</svg>\n"
          },
          "metadata": {},
          "execution_count": 5
        }
      ]
    },
    {
      "cell_type": "code",
      "metadata": {
        "colab": {
          "base_uri": "https://localhost:8080/"
        },
        "id": "F4hYjEvXyKvC",
        "outputId": "87b1145f-c8e2-4ec3-8b08-e1f7cfb263d3"
      },
      "source": [
        "img = czifile.imread(img_path + img_title)\n",
        "\n",
        "if img_size == []:\n",
        "  img_size = [0,0,img.shape[5],img.shape[6]] # full size\n",
        "\n",
        "img_slice = img[0,0,0,:,0,img_size[0]:img_size[2],img_size[1]:img_size[3],0]# image in a form of 3D matrix\n",
        "img0 = img_slice[0,:,:] # 0 channel which is fluo4-T1 (highlights the apoptosed cells)\n",
        "img1 = img_slice[1,:,:] # 1 channel which is H3342-T2 (highlights all the cells)\n",
        "channelsNorm = [(np.float32(img0)-mean_values[0])/std_values[0],\n",
        "            (np.float32(img1)-mean_values[1])/std_values[1]] # channels of the normalized image\n",
        "\n",
        "channels = channelsNorm\n",
        "\n",
        "#channels = [img0,img1] # channels of the normalized image\n",
        "\n",
        "\n",
        "nc = len(channels)\n",
        "n = [i for i in range(nc)] # auxiliary variable \n",
        "\n",
        "print('CZI image shape: ',img.shape)# ?, ?, ?,number of chanels,x size,y size, ?\n",
        "for i in n:\n",
        "  channels[i] = 255*np.uint16((channelsNorm[i]-np.amin(channelsNorm[i])\n",
        "  /(np.amax(channelsNorm[i])-np.amin(channelsNorm[i]))))\n",
        "  print(i,'channel shape: ',channels[i].shape, channels[i].dtype, type(channels[i]))\n",
        "  print(np.amax(channels[i]))\n",
        "print('0 channel shape: ',img0.shape,img0.dtype,type(img0))\n",
        "print(np.amax(img0))\n",
        "print('1 channel shape: ',img1.shape,img1.dtype,type(img1))\n",
        "print(np.amax(img1))"
      ],
      "execution_count": 6,
      "outputs": [
        {
          "output_type": "stream",
          "name": "stdout",
          "text": [
            "CZI image shape:  (1, 1, 1, 2, 1, 3277, 3277, 1)\n",
            "0 channel shape:  (3277, 3277) uint16 <class 'numpy.ndarray'>\n",
            "5610\n",
            "1 channel shape:  (3277, 3277) uint16 <class 'numpy.ndarray'>\n",
            "2550\n",
            "0 channel shape:  (3277, 3277) uint16 <class 'numpy.ndarray'>\n",
            "65535\n",
            "1 channel shape:  (3277, 3277) uint16 <class 'numpy.ndarray'>\n",
            "65535\n"
          ]
        }
      ]
    },
    {
      "cell_type": "code",
      "metadata": {
        "colab": {
          "base_uri": "https://localhost:8080/"
        },
        "id": "N8asrWq02xLd",
        "outputId": "8697910c-6492-4ccc-a438-57015853f4a4"
      },
      "source": [
        "av = np.array([1, 2, 3])\n",
        "np.mean(av)\n",
        "np.std(av)\n",
        "(av-np.mean(av))/np.std(av)"
      ],
      "execution_count": 7,
      "outputs": [
        {
          "output_type": "execute_result",
          "data": {
            "text/plain": [
              "array([-1.22474487,  0.        ,  1.22474487])"
            ]
          },
          "metadata": {},
          "execution_count": 7
        }
      ]
    },
    {
      "cell_type": "markdown",
      "metadata": {
        "id": "RzywdClhUOEP"
      },
      "source": [
        "**Create templates (empty lists).**"
      ]
    },
    {
      "cell_type": "code",
      "metadata": {
        "id": "xuya43jWUUH9"
      },
      "source": [
        "channelsF = [0]*nc # filtered channels template\n",
        "img_path_temp = [0]*nc # another one template\n",
        "channelsFGray = [0]*nc # and another one\n",
        "ret = [0]*nc # one more template\n",
        "thresh = [0]*nc # one more template\n",
        "opening = [0]*nc # one more template\n",
        "sure_bg = [0]*nc # one more template\n",
        "sure_fg = [0]*nc # one more template\n",
        "ret1 = [0]*nc # one more template\n",
        "dist_transform = [0]*nc # one more template\n",
        "unknown = [0]*nc # one more template\n",
        "ret2 = [0]*nc # one more template\n",
        "markers = [0]*nc # one more template\n",
        "markersi= [0]*nc # one more template\n",
        "channelsFB = [0]*nc # one more template\n",
        "channelsFW = [0]*nc # one more template\n",
        "channelsFWi= [0]*nc # one more template\n",
        "regions = [0]*nc\n",
        "numberOfCells = [0]*nc"
      ],
      "execution_count": 8,
      "outputs": []
    },
    {
      "cell_type": "markdown",
      "metadata": {
        "id": "DHjqavf0JJlK"
      },
      "source": [
        "#**Filter channel images.**"
      ]
    },
    {
      "cell_type": "code",
      "metadata": {
        "colab": {
          "base_uri": "https://localhost:8080/",
          "height": 128
        },
        "id": "5T34uVUjNXyc",
        "outputId": "2bfcc058-4137-4b1a-d9c4-1f1a3e35c25c"
      },
      "source": [
        "#flow chart visualisation\n",
        "gv('''slice[shape=box3d width=1 height=0.7] filter[shape=box3d width=1 height=1] threshold[shape=box3d width=1 height=0.7] denoise[shape=box3d width=1 height=0.7] identify[shape=box3d width=1 height=0.7] calculate[shape=box3d width=1 height=0.7]\n",
        "image->slice->filter->threshold->denoise->identify->calculate->results''')\n",
        "# https://laptrinhx.com/five-lessons-from-my-data-science-internship-at-hara-1112784335/"
      ],
      "execution_count": 9,
      "outputs": [
        {
          "output_type": "execute_result",
          "data": {
            "text/plain": [
              "<graphviz.files.Source at 0x7f457f948fd0>"
            ],
            "image/svg+xml": "<?xml version=\"1.0\" encoding=\"UTF-8\" standalone=\"no\"?>\n<!DOCTYPE svg PUBLIC \"-//W3C//DTD SVG 1.1//EN\"\n \"http://www.w3.org/Graphics/SVG/1.1/DTD/svg11.dtd\">\n<!-- Generated by graphviz version 2.40.1 (20161225.0304)\n -->\n<!-- Title: G Pages: 1 -->\n<svg width=\"827pt\" height=\"80pt\"\n viewBox=\"0.00 0.00 827.19 80.00\" xmlns=\"http://www.w3.org/2000/svg\" xmlns:xlink=\"http://www.w3.org/1999/xlink\">\n<g id=\"graph0\" class=\"graph\" transform=\"scale(1 1) rotate(0) translate(4 76)\">\n<title>G</title>\n<polygon fill=\"#ffffff\" stroke=\"transparent\" points=\"-4,4 -4,-76 823.188,-76 823.188,4 -4,4\"/>\n<!-- slice -->\n<g id=\"node1\" class=\"node\">\n<title>slice</title>\n<polygon fill=\"none\" stroke=\"#000000\" points=\"174.2941,-61 106.2941,-61 102.2941,-57 102.2941,-11 170.2941,-11 174.2941,-15 174.2941,-61\"/>\n<polyline fill=\"none\" stroke=\"#000000\" points=\"170.2941,-57 102.2941,-57 \"/>\n<polyline fill=\"none\" stroke=\"#000000\" points=\"170.2941,-57 170.2941,-11 \"/>\n<polyline fill=\"none\" stroke=\"#000000\" points=\"170.2941,-57 174.2941,-61 \"/>\n<text text-anchor=\"middle\" x=\"138.2941\" y=\"-32.3\" font-family=\"Times,serif\" font-size=\"14.00\" fill=\"#000000\">slice</text>\n</g>\n<!-- filter -->\n<g id=\"node2\" class=\"node\">\n<title>filter</title>\n<polygon fill=\"none\" stroke=\"#000000\" points=\"282.2941,-72 214.2941,-72 210.2941,-68 210.2941,0 278.2941,0 282.2941,-4 282.2941,-72\"/>\n<polyline fill=\"none\" stroke=\"#000000\" points=\"278.2941,-68 210.2941,-68 \"/>\n<polyline fill=\"none\" stroke=\"#000000\" points=\"278.2941,-68 278.2941,0 \"/>\n<polyline fill=\"none\" stroke=\"#000000\" points=\"278.2941,-68 282.2941,-72 \"/>\n<text text-anchor=\"middle\" x=\"246.2941\" y=\"-32.3\" font-family=\"Times,serif\" font-size=\"14.00\" fill=\"#000000\">filter</text>\n</g>\n<!-- slice&#45;&gt;filter -->\n<g id=\"edge2\" class=\"edge\">\n<title>slice&#45;&gt;filter</title>\n<path fill=\"none\" stroke=\"#000000\" d=\"M174.557,-36C182.6603,-36 191.363,-36 199.815,-36\"/>\n<polygon fill=\"#000000\" stroke=\"#000000\" points=\"199.9431,-39.5001 209.9431,-36 199.9431,-32.5001 199.9431,-39.5001\"/>\n</g>\n<!-- threshold -->\n<g id=\"node3\" class=\"node\">\n<title>threshold</title>\n<polygon fill=\"none\" stroke=\"#000000\" points=\"390.2941,-61 322.2941,-61 318.2941,-57 318.2941,-11 386.2941,-11 390.2941,-15 390.2941,-61\"/>\n<polyline fill=\"none\" stroke=\"#000000\" points=\"386.2941,-57 318.2941,-57 \"/>\n<polyline fill=\"none\" stroke=\"#000000\" points=\"386.2941,-57 386.2941,-11 \"/>\n<polyline fill=\"none\" stroke=\"#000000\" points=\"386.2941,-57 390.2941,-61 \"/>\n<text text-anchor=\"middle\" x=\"354.2941\" y=\"-32.3\" font-family=\"Times,serif\" font-size=\"14.00\" fill=\"#000000\">threshold</text>\n</g>\n<!-- filter&#45;&gt;threshold -->\n<g id=\"edge3\" class=\"edge\">\n<title>filter&#45;&gt;threshold</title>\n<path fill=\"none\" stroke=\"#000000\" d=\"M282.557,-36C290.6603,-36 299.363,-36 307.815,-36\"/>\n<polygon fill=\"#000000\" stroke=\"#000000\" points=\"307.9431,-39.5001 317.9431,-36 307.9431,-32.5001 307.9431,-39.5001\"/>\n</g>\n<!-- denoise -->\n<g id=\"node4\" class=\"node\">\n<title>denoise</title>\n<polygon fill=\"none\" stroke=\"#000000\" points=\"498.2941,-61 430.2941,-61 426.2941,-57 426.2941,-11 494.2941,-11 498.2941,-15 498.2941,-61\"/>\n<polyline fill=\"none\" stroke=\"#000000\" points=\"494.2941,-57 426.2941,-57 \"/>\n<polyline fill=\"none\" stroke=\"#000000\" points=\"494.2941,-57 494.2941,-11 \"/>\n<polyline fill=\"none\" stroke=\"#000000\" points=\"494.2941,-57 498.2941,-61 \"/>\n<text text-anchor=\"middle\" x=\"462.2941\" y=\"-32.3\" font-family=\"Times,serif\" font-size=\"14.00\" fill=\"#000000\">denoise</text>\n</g>\n<!-- threshold&#45;&gt;denoise -->\n<g id=\"edge4\" class=\"edge\">\n<title>threshold&#45;&gt;denoise</title>\n<path fill=\"none\" stroke=\"#000000\" d=\"M390.557,-36C398.6603,-36 407.363,-36 415.815,-36\"/>\n<polygon fill=\"#000000\" stroke=\"#000000\" points=\"415.9431,-39.5001 425.9431,-36 415.9431,-32.5001 415.9431,-39.5001\"/>\n</g>\n<!-- identify -->\n<g id=\"node5\" class=\"node\">\n<title>identify</title>\n<polygon fill=\"none\" stroke=\"#000000\" points=\"606.2941,-61 538.2941,-61 534.2941,-57 534.2941,-11 602.2941,-11 606.2941,-15 606.2941,-61\"/>\n<polyline fill=\"none\" stroke=\"#000000\" points=\"602.2941,-57 534.2941,-57 \"/>\n<polyline fill=\"none\" stroke=\"#000000\" points=\"602.2941,-57 602.2941,-11 \"/>\n<polyline fill=\"none\" stroke=\"#000000\" points=\"602.2941,-57 606.2941,-61 \"/>\n<text text-anchor=\"middle\" x=\"570.2941\" y=\"-32.3\" font-family=\"Times,serif\" font-size=\"14.00\" fill=\"#000000\">identify</text>\n</g>\n<!-- denoise&#45;&gt;identify -->\n<g id=\"edge5\" class=\"edge\">\n<title>denoise&#45;&gt;identify</title>\n<path fill=\"none\" stroke=\"#000000\" d=\"M498.557,-36C506.6603,-36 515.363,-36 523.815,-36\"/>\n<polygon fill=\"#000000\" stroke=\"#000000\" points=\"523.9431,-39.5001 533.9431,-36 523.9431,-32.5001 523.9431,-39.5001\"/>\n</g>\n<!-- calculate -->\n<g id=\"node6\" class=\"node\">\n<title>calculate</title>\n<polygon fill=\"none\" stroke=\"#000000\" points=\"714.2941,-61 646.2941,-61 642.2941,-57 642.2941,-11 710.2941,-11 714.2941,-15 714.2941,-61\"/>\n<polyline fill=\"none\" stroke=\"#000000\" points=\"710.2941,-57 642.2941,-57 \"/>\n<polyline fill=\"none\" stroke=\"#000000\" points=\"710.2941,-57 710.2941,-11 \"/>\n<polyline fill=\"none\" stroke=\"#000000\" points=\"710.2941,-57 714.2941,-61 \"/>\n<text text-anchor=\"middle\" x=\"678.2941\" y=\"-32.3\" font-family=\"Times,serif\" font-size=\"14.00\" fill=\"#000000\">calculate</text>\n</g>\n<!-- identify&#45;&gt;calculate -->\n<g id=\"edge6\" class=\"edge\">\n<title>identify&#45;&gt;calculate</title>\n<path fill=\"none\" stroke=\"#000000\" d=\"M606.557,-36C614.6603,-36 623.363,-36 631.815,-36\"/>\n<polygon fill=\"#000000\" stroke=\"#000000\" points=\"631.9431,-39.5001 641.9431,-36 631.9431,-32.5001 631.9431,-39.5001\"/>\n</g>\n<!-- results -->\n<g id=\"node8\" class=\"node\">\n<title>results</title>\n<ellipse fill=\"none\" stroke=\"#000000\" cx=\"784.7411\" cy=\"-36\" rx=\"34.394\" ry=\"18\"/>\n<text text-anchor=\"middle\" x=\"784.7411\" y=\"-32.3\" font-family=\"Times,serif\" font-size=\"14.00\" fill=\"#000000\">results</text>\n</g>\n<!-- calculate&#45;&gt;results -->\n<g id=\"edge7\" class=\"edge\">\n<title>calculate&#45;&gt;results</title>\n<path fill=\"none\" stroke=\"#000000\" d=\"M714.3322,-36C722.5651,-36 731.4127,-36 739.9619,-36\"/>\n<polygon fill=\"#000000\" stroke=\"#000000\" points=\"740.1808,-39.5001 750.1808,-36 740.1808,-32.5001 740.1808,-39.5001\"/>\n</g>\n<!-- image -->\n<g id=\"node7\" class=\"node\">\n<title>image</title>\n<ellipse fill=\"none\" stroke=\"#000000\" cx=\"33.1471\" cy=\"-36\" rx=\"33.2948\" ry=\"18\"/>\n<text text-anchor=\"middle\" x=\"33.1471\" y=\"-32.3\" font-family=\"Times,serif\" font-size=\"14.00\" fill=\"#000000\">image</text>\n</g>\n<!-- image&#45;&gt;slice -->\n<g id=\"edge1\" class=\"edge\">\n<title>image&#45;&gt;slice</title>\n<path fill=\"none\" stroke=\"#000000\" d=\"M66.4162,-36C74.4578,-36 83.199,-36 91.7267,-36\"/>\n<polygon fill=\"#000000\" stroke=\"#000000\" points=\"91.9613,-39.5001 101.9612,-36 91.9612,-32.5001 91.9613,-39.5001\"/>\n</g>\n</g>\n</svg>\n"
          },
          "metadata": {},
          "execution_count": 9
        }
      ]
    },
    {
      "cell_type": "markdown",
      "metadata": {
        "id": "ryowCi0lo8Hy"
      },
      "source": [
        "The non-local means denoising and the median filter are performed. "
      ]
    },
    {
      "cell_type": "code",
      "metadata": {
        "id": "RDzJwx-bOuQ3",
        "colab": {
          "base_uri": "https://localhost:8080/",
          "height": 401
        },
        "outputId": "622e7669-6f4f-4b0a-9520-00888230f422"
      },
      "source": [
        "for i in n:\n",
        "  # \"denoise_nl_means\" performs non-local means denoising\n",
        "  sigma_est = np.mean(estimate_sigma(channels[i], multichannel=False))\n",
        "  patch_kw = dict(patch_size=ps, patch_distance=patchDist, multichannel=False)\n",
        "  channelsF[i] = denoise_nl_means(channels[i], h=hc*sigma_est, fast_mode=False, **patch_kw)\n",
        "  \n",
        "  channelsF[i] = np.uint16(channelsF[i])\n",
        "\n",
        "  # Apply a multidimensional median filter\n",
        "  channelsF[i] = ndimage.median_filter(channelsF[i], size=kernel4filt)\n",
        "\n",
        "  print(i,'channel sigma estimation = ',sigma_est)\n",
        "  print(i,'channel shape: ',channelsF[i].shape, channelsF[i].dtype, type(channelsF[i]))\n",
        "  print(np.amax(channelsF[i]),np.amin(channelsF[i]),np.mean(channelsF[i]))\n",
        "   "
      ],
      "execution_count": 10,
      "outputs": [
        {
          "output_type": "stream",
          "name": "stdout",
          "text": [
            "0 channel sigma estimation =  88.18452723460602\n",
            "0 channel shape:  (3277, 3277) uint16 <class 'numpy.ndarray'>\n",
            "4845 0 2.5582564752309143\n"
          ]
        },
        {
          "output_type": "error",
          "ename": "KeyboardInterrupt",
          "evalue": "ignored",
          "traceback": [
            "\u001b[0;31m---------------------------------------------------------------------------\u001b[0m",
            "\u001b[0;31mKeyboardInterrupt\u001b[0m                         Traceback (most recent call last)",
            "\u001b[0;32m<ipython-input-10-47d3f637e246>\u001b[0m in \u001b[0;36m<module>\u001b[0;34m()\u001b[0m\n\u001b[1;32m      3\u001b[0m   \u001b[0msigma_est\u001b[0m \u001b[0;34m=\u001b[0m \u001b[0mnp\u001b[0m\u001b[0;34m.\u001b[0m\u001b[0mmean\u001b[0m\u001b[0;34m(\u001b[0m\u001b[0mestimate_sigma\u001b[0m\u001b[0;34m(\u001b[0m\u001b[0mchannels\u001b[0m\u001b[0;34m[\u001b[0m\u001b[0mi\u001b[0m\u001b[0;34m]\u001b[0m\u001b[0;34m,\u001b[0m \u001b[0mmultichannel\u001b[0m\u001b[0;34m=\u001b[0m\u001b[0;32mFalse\u001b[0m\u001b[0;34m)\u001b[0m\u001b[0;34m)\u001b[0m\u001b[0;34m\u001b[0m\u001b[0;34m\u001b[0m\u001b[0m\n\u001b[1;32m      4\u001b[0m   \u001b[0mpatch_kw\u001b[0m \u001b[0;34m=\u001b[0m \u001b[0mdict\u001b[0m\u001b[0;34m(\u001b[0m\u001b[0mpatch_size\u001b[0m\u001b[0;34m=\u001b[0m\u001b[0mps\u001b[0m\u001b[0;34m,\u001b[0m \u001b[0mpatch_distance\u001b[0m\u001b[0;34m=\u001b[0m\u001b[0mpatchDist\u001b[0m\u001b[0;34m,\u001b[0m \u001b[0mmultichannel\u001b[0m\u001b[0;34m=\u001b[0m\u001b[0;32mFalse\u001b[0m\u001b[0;34m)\u001b[0m\u001b[0;34m\u001b[0m\u001b[0;34m\u001b[0m\u001b[0m\n\u001b[0;32m----> 5\u001b[0;31m   \u001b[0mchannelsF\u001b[0m\u001b[0;34m[\u001b[0m\u001b[0mi\u001b[0m\u001b[0;34m]\u001b[0m \u001b[0;34m=\u001b[0m \u001b[0mdenoise_nl_means\u001b[0m\u001b[0;34m(\u001b[0m\u001b[0mchannels\u001b[0m\u001b[0;34m[\u001b[0m\u001b[0mi\u001b[0m\u001b[0;34m]\u001b[0m\u001b[0;34m,\u001b[0m \u001b[0mh\u001b[0m\u001b[0;34m=\u001b[0m\u001b[0mhc\u001b[0m\u001b[0;34m*\u001b[0m\u001b[0msigma_est\u001b[0m\u001b[0;34m,\u001b[0m \u001b[0mfast_mode\u001b[0m\u001b[0;34m=\u001b[0m\u001b[0;32mFalse\u001b[0m\u001b[0;34m,\u001b[0m \u001b[0;34m**\u001b[0m\u001b[0mpatch_kw\u001b[0m\u001b[0;34m)\u001b[0m\u001b[0;34m\u001b[0m\u001b[0;34m\u001b[0m\u001b[0m\n\u001b[0m\u001b[1;32m      6\u001b[0m \u001b[0;34m\u001b[0m\u001b[0m\n\u001b[1;32m      7\u001b[0m   \u001b[0mchannelsF\u001b[0m\u001b[0;34m[\u001b[0m\u001b[0mi\u001b[0m\u001b[0;34m]\u001b[0m \u001b[0;34m=\u001b[0m \u001b[0mnp\u001b[0m\u001b[0;34m.\u001b[0m\u001b[0muint16\u001b[0m\u001b[0;34m(\u001b[0m\u001b[0mchannelsF\u001b[0m\u001b[0;34m[\u001b[0m\u001b[0mi\u001b[0m\u001b[0;34m]\u001b[0m\u001b[0;34m)\u001b[0m\u001b[0;34m\u001b[0m\u001b[0;34m\u001b[0m\u001b[0m\n",
            "\u001b[0;32m/usr/local/lib/python3.7/dist-packages/skimage/restoration/non_local_means.py\u001b[0m in \u001b[0;36mdenoise_nl_means\u001b[0;34m(image, patch_size, patch_distance, h, multichannel, fast_mode, sigma)\u001b[0m\n\u001b[1;32m    140\u001b[0m         \u001b[0;32melse\u001b[0m\u001b[0;34m:\u001b[0m\u001b[0;34m\u001b[0m\u001b[0;34m\u001b[0m\u001b[0m\n\u001b[1;32m    141\u001b[0m             return np.squeeze(\n\u001b[0;32m--> 142\u001b[0;31m                 np.asarray(_nl_means_denoising_2d(image, **nlm_kwargs)))\n\u001b[0m\u001b[1;32m    143\u001b[0m     \u001b[0;32melse\u001b[0m\u001b[0;34m:\u001b[0m  \u001b[0;31m# 3-D grayscale\u001b[0m\u001b[0;34m\u001b[0m\u001b[0;34m\u001b[0m\u001b[0m\n\u001b[1;32m    144\u001b[0m         \u001b[0;32mif\u001b[0m \u001b[0mfast_mode\u001b[0m\u001b[0;34m:\u001b[0m\u001b[0;34m\u001b[0m\u001b[0;34m\u001b[0m\u001b[0m\n",
            "\u001b[0;31mKeyboardInterrupt\u001b[0m: "
          ]
        }
      ]
    },
    {
      "cell_type": "markdown",
      "metadata": {
        "id": "6ytgjfUmPcy5"
      },
      "source": [
        "**Visualize channels before and after filtering.**"
      ]
    },
    {
      "cell_type": "code",
      "metadata": {
        "id": "ib0AKWxcMtws"
      },
      "source": [
        "titles = ['\"fluo4-T1\" channel highlights the apoptosed cells',\n",
        "          '\"H3342-T2\" channel highlights all the cells']\n",
        "plt.figure(figsize=(fig_size[0],fig_size[1]))\n",
        "for i in n:\n",
        "  plt.subplot(2,2,i+1)\n",
        "  plt.imshow(channels[i],cmap=img_map)\n",
        "  plt.title(titles[i])\n",
        "  plt.subplot(2,2,i+3)\n",
        "  plt.imshow(channelsF[i],cmap=img_map)\n",
        "  plt.title(titles[i]+'(filtered)')  "
      ],
      "execution_count": null,
      "outputs": []
    },
    {
      "cell_type": "code",
      "metadata": {
        "id": "53px4b4ZzOU0"
      },
      "source": [
        "#plt.figure(figsize=fig_size)\n",
        "#plt.imshow(channelsF[1],cmap = img_map)"
      ],
      "execution_count": null,
      "outputs": []
    },
    {
      "cell_type": "markdown",
      "metadata": {
        "id": "gmWUnnUvj_GI"
      },
      "source": [
        "**Create tepmorary 'tiff' files.**"
      ]
    },
    {
      "cell_type": "code",
      "metadata": {
        "id": "5RHxx2AekCuW"
      },
      "source": [
        "for i in n:\n",
        "  img_path_temp[i] = img_path + img_title[0:-4] + '_ch' + str(i) + '.tiff' # path 0\n",
        "  cv2.imwrite(img_path_temp[i], channelsF[i]) # save channels in a temporary tiff file\n",
        "print(img_path_temp)"
      ],
      "execution_count": null,
      "outputs": []
    },
    {
      "cell_type": "markdown",
      "metadata": {
        "id": "Q4lmnzK9zhJ6"
      },
      "source": [
        "**Read images using OpenCV.**"
      ]
    },
    {
      "cell_type": "code",
      "metadata": {
        "id": "srJBVZ9Cmef-"
      },
      "source": [
        "for i in n:\n",
        "  channelsFGray[i] = cv2.imread(img_path_temp[i],cv2.IMREAD_GRAYSCALE)\n",
        "  print(type(channelsFGray[i]),channelsFGray[i].shape,channelsFGray[i].dtype, np.min(channelsFGray[i]), np.max(channelsFGray[i]), np.mean(channelsFGray[i]))"
      ],
      "execution_count": null,
      "outputs": []
    },
    {
      "cell_type": "markdown",
      "metadata": {
        "id": "DtSv4SQVD3Hx"
      },
      "source": [
        "#**Threshold and delete noise.**\n",
        "\n",
        "Threshold image to binary using 'OTSU'. All the thresholded pixels are set to 255. Then remove noise using 'opening' and remove edge touching with 'clear_border' function (optional)."
      ]
    },
    {
      "cell_type": "code",
      "metadata": {
        "id": "W_OUCU6uOP_4"
      },
      "source": [
        "#flow chart visualisation\n",
        "gv('''slice[shape=box3d width=1 height=0.7] filter[shape=box3d width=1 height=0.7] threshold[shape=box3d width=1 height=1] denoise[shape=box3d width=1 height=1] identify[shape=box3d width=1 height=0.7] calculate[shape=box3d width=1 height=0.7]\n",
        "image->slice->filter->threshold->denoise->identify->calculate->results''')"
      ],
      "execution_count": null,
      "outputs": []
    },
    {
      "cell_type": "code",
      "metadata": {
        "id": "0GyZKAnF0J4A"
      },
      "source": [
        "for i in n:\n",
        "  ret[i], thresh[i] = cv2.threshold(channelsFGray[i], 0, 255, \n",
        "                                    cv2.THRESH_BINARY+cv2.THRESH_OTSU)\n",
        "  opening[i] = cv2.morphologyEx(thresh[i],cv2.MORPH_OPEN,kernel,\n",
        "                                iterations = numberOfIter)\n",
        "  if clearBorder == 'on':\n",
        "    opening[i] = clear_border(opening[i])"
      ],
      "execution_count": null,
      "outputs": []
    },
    {
      "cell_type": "markdown",
      "metadata": {
        "id": "xK6WWrjqSVxe"
      },
      "source": [
        "**Identify background and foreground area using OpenCV distance transformation. Apply watershed.**"
      ]
    },
    {
      "cell_type": "code",
      "metadata": {
        "id": "aZfH3jMiOYRQ"
      },
      "source": [
        "#flow chart visualisation\n",
        "gv('''slice[shape=box3d width=1 height=0.7] filter[shape=box3d width=1 height=0.7] threshold[shape=box3d width=1 height=0.7] denoise[shape=box3d width=1 height=0.7] identify[shape=box3d width=1 height=1] calculate[shape=box3d width=1 height=0.7]\n",
        "image->slice->filter->threshold->denoise->identify->calculate->results''')"
      ],
      "execution_count": null,
      "outputs": []
    },
    {
      "cell_type": "markdown",
      "metadata": {
        "id": "K3Dogsl-p3S3"
      },
      "source": [
        "Find sure background and sure foreground regions."
      ]
    },
    {
      "cell_type": "code",
      "metadata": {
        "id": "35phegXRSg71"
      },
      "source": [
        "for i in n:\n",
        "  sure_bg[i] = cv2.dilate(opening[i],\n",
        "                          kernel,iterations=numberOfIter) # sure background\n",
        "  dist_transform[i] = cv2.distanceTransform(opening[i],cv2.DIST_L2,\n",
        "                                            dist_transf_param)\n",
        "  \n",
        "  ret1[i], sure_fg[i] = cv2.threshold(dist_transform[i],\n",
        "                                      dist_transf_ratio*dist_transform[i].max(),\n",
        "                                      255,0)\n",
        "  sure_fg[i] = np.uint8(sure_fg[i]) # sure foreground"
      ],
      "execution_count": null,
      "outputs": []
    },
    {
      "cell_type": "markdown",
      "metadata": {
        "id": "n1sDA_ffsqZj"
      },
      "source": [
        "To find the apoptosed cells the channels intersection condition should be met. The intersectioin is represented by 'and' logical operation."
      ]
    },
    {
      "cell_type": "code",
      "metadata": {
        "id": "IIBnUYZ_spEc"
      },
      "source": [
        "sure_fg[0] = cv2.bitwise_and(sure_fg[0], sure_fg[1])"
      ],
      "execution_count": null,
      "outputs": []
    },
    {
      "cell_type": "markdown",
      "metadata": {
        "id": "ThlaR0EgtC7I"
      },
      "source": [
        "Add markers and apply watershed."
      ]
    },
    {
      "cell_type": "code",
      "metadata": {
        "id": "f9zsOKHvp0-9"
      },
      "source": [
        "for i in n:\n",
        "  unknown[i] = cv2.subtract(sure_bg[i], sure_fg[i])\n",
        "  ret2[i], markers[i] = cv2.connectedComponents(sure_fg[i])\n",
        "  markers[i] = markers[i] + markers_bias\n",
        "  markers[i][unknown[i]==255] = 0\n",
        "\n",
        "  markers[i] = cv2.watershed(cv2.imread(img_path_temp[i]),markers[i]) #The boundary regions will be marked as -1\n",
        "  channelsFB[i] = cv2.imread(img_path_temp[i])\n",
        "  channelsFB[i][markers[i] == -1] = [255,0,0] # highlight borders with red \n",
        "  channelsFW[i] = color.label2rgb(markers[i], bg_label = 0)"
      ],
      "execution_count": null,
      "outputs": []
    },
    {
      "cell_type": "markdown",
      "metadata": {
        "id": "Qj8mDCPavOei"
      },
      "source": [
        "Visualize."
      ]
    },
    {
      "cell_type": "code",
      "metadata": {
        "id": "G4uOOfuDWpwQ"
      },
      "source": [
        "plt.figure(figsize=(fig_size[0],fig_size[1]))\n",
        "for i in n:\n",
        "  plt.subplot(2,2,i+1)\n",
        "  plt.imshow(sure_fg[i],cmap='binary_r')\n",
        "  plt.title(titles[i]+'. Sure foreground.')\n",
        "  plt.subplot(2,2,i+3)\n",
        "  plt.imshow(markers[i],cmap=img_map1)\n",
        "  plt.title(titles[i]+ '. Markers.')"
      ],
      "execution_count": null,
      "outputs": []
    },
    {
      "cell_type": "markdown",
      "metadata": {
        "id": "W2SFF1M6vDS5"
      },
      "source": [
        "Compare channels intersections to find the apoptosed cells."
      ]
    },
    {
      "cell_type": "code",
      "metadata": {
        "id": "CzoKGKqVt0dI"
      },
      "source": [
        "#channelsFWIntersection = cv2.bitwise_and(sure_fg[0], sure_fg[1])\n",
        "#channelsFWIntersection = join_segmentations(sure_fg[0], sure_fg[1]) # intersection\n",
        "#channelsFWIGray = cv2.cvtColor(channelsFWIntersection, cv2.COLOR_BGR2GRAY) # convert to gray image"
      ],
      "execution_count": null,
      "outputs": []
    },
    {
      "cell_type": "code",
      "metadata": {
        "id": "ve9J-xnJny1O"
      },
      "source": [
        "#retI,threshI = cv2.threshold(channelsFWIntersection, 0, 255, \n",
        "#                                    cv2.THRESH_BINARY+cv2.THRESH_OTSU)"
      ],
      "execution_count": null,
      "outputs": []
    },
    {
      "cell_type": "markdown",
      "metadata": {
        "id": "woHHcdh5epoV"
      },
      "source": [
        "#**Calculate metrics.**\n",
        "\n",
        "https://scikit-image.org/docs/dev/api/skimage.measure.html#skimage.measure.regionprops"
      ]
    },
    {
      "cell_type": "code",
      "metadata": {
        "id": "nz62cfMXOw5L"
      },
      "source": [
        "#flow chart visualisation\n",
        "gv('''slice[shape=box3d width=1 height=0.7] filter[shape=box3d width=1 height=0.7] threshold[shape=box3d width=1 height=0.7] denoise[shape=box3d width=1 height=0.7] identify[shape=box3d width=1 height=0.7] calculate[shape=box3d width=1 height=1]\n",
        "image->slice->filter->threshold->denoise->identify->calculate->results''')"
      ],
      "execution_count": null,
      "outputs": []
    },
    {
      "cell_type": "code",
      "metadata": {
        "id": "n3eEiXCveu9a"
      },
      "source": [
        "# Calculate metrics for channels\n",
        "for i in n:\n",
        "  regions[i] = measure.regionprops(markers[i], intensity_image=channels[i])\n",
        "  numberOfCells[i] = len(regions[i])-1\n",
        "  #print(regions[i])\n",
        "print('Numbers of cells in channel images are equal to',numberOfCells)\n",
        "print('Note: the number of cells in channel 0 was calculated according to the intersecting condition.')\n",
        "\n",
        "# # Calculate metrics for intersection\n",
        "# regionsI = measure.regionprops(channelsFWIntersection, intensity_image=channels[0])\n",
        "# numberOfApoptosedCells = len(regionsI)-1\n",
        "# print('Numbers of appoptosed cells is equal to',numberOfApoptosedCells)\n"
      ],
      "execution_count": null,
      "outputs": []
    },
    {
      "cell_type": "code",
      "metadata": {
        "id": "zdLEKsaHanzb"
      },
      "source": [
        "#Append intersection\n",
        "#regions.append(regionsI)"
      ],
      "execution_count": null,
      "outputs": []
    },
    {
      "cell_type": "markdown",
      "metadata": {
        "id": "863mKRmLjgEr"
      },
      "source": [
        "**Visualise and save metrics data.**"
      ]
    },
    {
      "cell_type": "code",
      "metadata": {
        "id": "XPb6cGVVxLpB"
      },
      "source": [
        "d = [0]*(nc)\n",
        "df_temp = [0]*(nc)\n",
        "\n",
        "for i in [i for i in range(nc)]:\n",
        "  nr = [i for i in range(len(regions[i]))]\n",
        "  d[i] = pd.DataFrame()\n",
        "  for j in nr:\n",
        "    df_temp[i] = pd.DataFrame({'No':j, \n",
        "                          'Area (mum^2)':int(regions[i][j].area*(pixels2microns**2)),\n",
        "                          'Equiv.diam. (mum)': regions[i][j].equivalent_diameter*pixels2microns,\n",
        "                          'Major axis length (mum)':regions[i][j].major_axis_length*pixels2microns,\n",
        "                          'Minor axis length (mum)':regions[i][j].minor_axis_length*pixels2microns,\n",
        "                          'Mean intensity':regions[i][j].mean_intensity,\n",
        "                          'Euler number': regions[i][j].euler_number,\n",
        "                          'Centroid':[regions[i][j].centroid],\n",
        "                          'Bounding box':[regions[i][j].bbox]})\n",
        "    d[i] = pd.concat([d[i],df_temp[i]])\n",
        "    d[i].to_csv(img_path + img_title[0:-4] +'_channel_'+str(i) + '.csv')  "
      ],
      "execution_count": null,
      "outputs": []
    },
    {
      "cell_type": "code",
      "metadata": {
        "id": "_SBBdhOPmDKX"
      },
      "source": [
        "# Channel 0 (\"fluo4-T1\") intersected with Channel 1.\n",
        "d[0]"
      ],
      "execution_count": null,
      "outputs": []
    },
    {
      "cell_type": "code",
      "metadata": {
        "id": "z4s1Yeq5mMPV"
      },
      "source": [
        "# Channel 1 (\"H3342-T2\").\n",
        "d[1]"
      ],
      "execution_count": null,
      "outputs": []
    },
    {
      "cell_type": "code",
      "metadata": {
        "id": "Xq5ljlblcWcs"
      },
      "source": [
        "# Channels intersection, that is a data frame of appoptosed cells\n",
        "#d[2]"
      ],
      "execution_count": null,
      "outputs": []
    },
    {
      "cell_type": "markdown",
      "metadata": {
        "id": "EoZ11ErKUA1Z"
      },
      "source": [
        "**Visualize boundaries and cells.**"
      ]
    },
    {
      "cell_type": "code",
      "metadata": {
        "id": "dyonbyjkUFav"
      },
      "source": [
        "# Enumerate apoptosed cells on image\n",
        "for j in [i for i in range(len(regions[0]))]:\n",
        "  cellPosition = (regions[0][j].bbox[1],regions[0][j].bbox[0])\n",
        "  cv2.putText(channelsFW[0],str(j),\n",
        "              cellPosition,font,fontScale,fontColor,lineType)\n",
        "# Visualize\n",
        "fig, ax = plt.subplots(figsize=(fig_size[0],fig_size[1]))\n",
        "for i in n:\n",
        "  plt.subplot(2,2,i+1)\n",
        "  plt.imshow(channelsFB[i],cmap=img_map)\n",
        "  plt.title(titles[i]+'. Detected boundaries.')\n",
        "  plt.subplot(2,2,i+3)\n",
        "  plt.imshow(channelsFW[i],cmap=img_map1)\n",
        "  plt.title(titles[i]+ '. ' + str(numberOfCells[i]) + ' cell(s) were detected')"
      ],
      "execution_count": null,
      "outputs": []
    },
    {
      "cell_type": "markdown",
      "metadata": {
        "id": "IPddrbrppwyn"
      },
      "source": [
        "#**Compare the resulsts.**"
      ]
    },
    {
      "cell_type": "markdown",
      "metadata": {
        "id": "301pjd5FtQ1i"
      },
      "source": [
        "Read csv file (if any) with data obtained from labeling on Apeer platform https://www.apeer.com/."
      ]
    },
    {
      "cell_type": "code",
      "metadata": {
        "id": "NiFhnYU8tets"
      },
      "source": [
        "if os.path.exists(img_path + img_title + '_annotation.csv') == True:\n",
        "  dl = pd.read_csv(img_path + img_title + '_annotation.csv')\n",
        "  print('The total number of cells is: ', len(dl), '(data from apeer.com)', numberOfCells[1],'(result of the current program);')\n",
        "  print('The number of apoptosed cells is: ', len(dl[(dl.Class=='apoptosed')]), '(data from apeer.com)', numberOfCells[0],'(result of the current program).')\n",
        "else:\n",
        "    print('Labeling info obtained from apeer.com in a form of annotation file is absent.')"
      ],
      "execution_count": null,
      "outputs": []
    },
    {
      "cell_type": "code",
      "metadata": {
        "id": "wxQrhu-2z-Xe"
      },
      "source": [
        "#dl[(dl.Class=='alive')].head()"
      ],
      "execution_count": null,
      "outputs": []
    },
    {
      "cell_type": "code",
      "metadata": {
        "id": "oj9Qlt67z9-j"
      },
      "source": [
        "#dl[(dl.Class=='apoptosed')].head()"
      ],
      "execution_count": null,
      "outputs": []
    },
    {
      "cell_type": "markdown",
      "metadata": {
        "id": "Rn8IF4nOw97N"
      },
      "source": [
        "#**Series results.**\n",
        "\n",
        "Statistic data presented by 2 experts and 2 algorithm is used. The expert names are hidden. The algorihtm_1 is watershed (current programm), the algorithm_2 is semantic segmentation.  "
      ]
    },
    {
      "cell_type": "code",
      "metadata": {
        "id": "_eOEnXwcp8fP"
      },
      "source": [
        "#sr = pd.read_excel(img_path + 'Comparison.xlsx', index_col=None, na_values=[\"NA\"])"
      ],
      "execution_count": null,
      "outputs": []
    },
    {
      "cell_type": "code",
      "metadata": {
        "id": "fsLbbl4z2aAK"
      },
      "source": [
        "#sr.head()"
      ],
      "execution_count": null,
      "outputs": []
    },
    {
      "cell_type": "code",
      "metadata": {
        "id": "JxWUvhp78DxR"
      },
      "source": [
        "#sr[sr['Set']=='2021-02-16']"
      ],
      "execution_count": null,
      "outputs": []
    },
    {
      "cell_type": "markdown",
      "metadata": {
        "id": "KTDUdE_9KKyz"
      },
      "source": [
        "#**Some links.**\n",
        "\n",
        "Image Filtering https://cs.nyu.edu/~fergus/teaching/vision/3_filtering.pdf\n",
        "\n",
        "Cells count https://www.biorxiv.org/content/10.1101/181495v2.full"
      ]
    }
  ]
}