{
  "nbformat": 4,
  "nbformat_minor": 0,
  "metadata": {
    "colab": {
      "provenance": [],
      "authorship_tag": "ABX9TyO7/wwyWsOF7dnqPDBi33j7",
      "include_colab_link": true
    },
    "kernelspec": {
      "name": "python3",
      "display_name": "Python 3"
    },
    "language_info": {
      "name": "python"
    }
  },
  "cells": [
    {
      "cell_type": "markdown",
      "metadata": {
        "id": "view-in-github",
        "colab_type": "text"
      },
      "source": [
        "<a href=\"https://colab.research.google.com/github/avkornaev/Cells_counter/blob/main/Week_12/Hands_on_CLIPSeg.ipynb\" target=\"_parent\"><img src=\"https://colab.research.google.com/assets/colab-badge.svg\" alt=\"Open In Colab\"/></a>"
      ]
    },
    {
      "cell_type": "markdown",
      "source": [
        "# Zero-Shot Image Segmentation with CLIPSeg"
      ],
      "metadata": {
        "id": "oSjJKjKOpku2"
      }
    },
    {
      "cell_type": "markdown",
      "source": [
        "**Implementation** Note:  \n",
        "This notebook was developed using methodologies suggested by  \n",
        "the DeepSeek-V3 language model (DeepSeek, 2024)."
      ],
      "metadata": {
        "id": "pLkXNzG7prW-"
      }
    },
    {
      "cell_type": "code",
      "execution_count": null,
      "metadata": {
        "id": "eAcijT5upWOy"
      },
      "outputs": [],
      "source": [
        "# Install required libraries\n",
        "!pip install -q transformers torch pillow"
      ]
    },
    {
      "cell_type": "code",
      "source": [
        "import requests\n",
        "import torch\n",
        "from torch.nn.functional import interpolate\n",
        "\n",
        "from PIL import Image\n",
        "\n",
        "from IPython.display import display\n",
        "import matplotlib.pyplot as plt\n",
        "from matplotlib import gridspec\n",
        "\n",
        "from mpl_toolkits.axes_grid1 import make_axes_locatable\n",
        "import numpy as np\n",
        "\n",
        "from transformers import CLIPSegProcessor, CLIPSegForImageSegmentation"
      ],
      "metadata": {
        "id": "__ghfh7YpvW8"
      },
      "execution_count": null,
      "outputs": []
    },
    {
      "cell_type": "code",
      "source": [
        "#@title Image Input Options {run: \"auto\"}\n",
        "input_method = \"URL\" #@param [\"URL\", \"Upload\"]\n",
        "\n",
        "if input_method == \"URL\":\n",
        "    # Use example image or paste your own URL\n",
        "    url = \"https://images.unsplash.com/photo-1573865526739-10659fec78a5\"  # Cat image\n",
        "    image = Image.open(requests.get(url, stream=True).raw)\n",
        "else:\n",
        "    # Upload custom image\n",
        "    from google.colab import files\n",
        "    uploaded = files.upload()\n",
        "    file_name = next(iter(uploaded))\n",
        "    image = Image.open(file_name)\n",
        "\n",
        "# Display the image\n",
        "plt.imshow(np.array(image))\n",
        "plt.axis('off')\n",
        "plt.show()"
      ],
      "metadata": {
        "id": "BCRI4C7Dp0rU"
      },
      "execution_count": null,
      "outputs": []
    },
    {
      "cell_type": "code",
      "source": [
        "# Load model\n",
        "model = CLIPSegForImageSegmentation.from_pretrained(\"CIDAS/clipseg-rd64-refined\")\n",
        "processor = CLIPSegProcessor.from_pretrained(\"CIDAS/clipseg-rd64-refined\")\n",
        "\n",
        "\n",
        "# Define text prompts (multiple supported)\n",
        "texts = [\"a cat\", \"eyes\", \"a cat's paws\", \"a cat's whiskers\",\n",
        "         \"a cat's tail\", \"a table\"]\n",
        "# Process inputs\n",
        "inputs = processor(text=texts, images=[image]*len(texts), return_tensors=\"pt\", padding=True)\n",
        "\n",
        "# Predict\n",
        "with torch.no_grad():\n",
        "    outputs = model(**inputs)\n",
        "\n",
        "# Visualize masks\n",
        "fig, axes = plt.subplots(1, len(texts), figsize=(15,5))\n",
        "for idx, (text, mask) in enumerate(zip(texts, outputs.logits)):\n",
        "    axes[idx].imshow(mask.sigmoid().numpy(), cmap='viridis')\n",
        "    axes[idx].set_title(text)\n",
        "    axes[idx].axis('off')\n",
        "plt.show()"
      ],
      "metadata": {
        "id": "XWFU-pyfp40v"
      },
      "execution_count": null,
      "outputs": []
    },
    {
      "cell_type": "code",
      "source": [
        "for idx, (text, mask) in enumerate(zip(texts, outputs.logits)):\n",
        "    mask_norm = mask.sigmoid().numpy()\n",
        "    mean_confidence = mask_norm.mean()\n",
        "    print(mean_confidence)"
      ],
      "metadata": {
        "id": "KJTztYMOqIJ0"
      },
      "execution_count": null,
      "outputs": []
    },
    {
      "cell_type": "code",
      "source": [
        "#title Enhanced Segmentation Visualization with Probability Sidebars\n",
        "\n",
        "# Create figure\n",
        "fig = plt.figure(figsize=(20, 5 * len(texts)))  # Adjust height based on number of texts\n",
        "\n",
        "for idx, (text, mask) in enumerate(zip(texts, outputs.logits)):\n",
        "    # Create grid layout for this segmentation\n",
        "    gs = gridspec.GridSpec(1, 2, width_ratios=[3, 1], wspace=0.05)\n",
        "\n",
        "    # Main image with mask overlay\n",
        "    ax0 = plt.subplot(gs[0])\n",
        "    img_array = np.array(image)\n",
        "\n",
        "    # Resize mask to match image\n",
        "    mask_resized = interpolate(\n",
        "        mask.unsqueeze(0).unsqueeze(0),\n",
        "        size=img_array.shape[:2],\n",
        "        mode='bilinear'\n",
        "    ).squeeze().numpy()\n",
        "    mask_norm = 1 / (1 + np.exp(-mask_resized))\n",
        "\n",
        "    # Display\n",
        "    ax0.imshow(img_array)\n",
        "    overlay = ax0.imshow(mask_norm, cmap='viridis', alpha=0.5)\n",
        "    ax0.set_title(f\"'{text}' Segmentation\", fontsize=12, pad=10)\n",
        "    ax0.axis('off')\n",
        "\n",
        "    # Add colorbar sidebar\n",
        "    ax1 = plt.subplot(gs[1])\n",
        "    divider = make_axes_locatable(ax1)\n",
        "    cax = divider.append_axes(\"right\", size=\"20%\", pad=0.1)\n",
        "\n",
        "    # Create histogram of probabilities\n",
        "    hist_data = mask_norm.flatten()\n",
        "    hist_data = hist_data[hist_data > 0.1]  # Filter very low probabilities\n",
        "\n",
        "    ax1.hist(hist_data, bins=50, orientation='horizontal', color='green')\n",
        "    ax1.set_xlabel('Pixel Count')\n",
        "    ax1.set_ylabel('Mask Probability')\n",
        "    ax1.set_title('Probability Distribution', fontsize=10)\n",
        "    ax1.grid(True, alpha=0.3)\n",
        "\n",
        "    # Add colorbar\n",
        "    plt.colorbar(overlay, cax=cax, label='Mask Confidence')\n",
        "\n",
        "plt.tight_layout()\n",
        "plt.show()"
      ],
      "metadata": {
        "id": "E_2UeR60p4x_"
      },
      "execution_count": null,
      "outputs": []
    }
  ]
}