{
  "nbformat": 4,
  "nbformat_minor": 0,
  "metadata": {
    "colab": {
      "name": "IRI_defects_detection.ipynb",
      "provenance": [],
      "collapsed_sections": [],
      "authorship_tag": "ABX9TyO2ckRYPnGE/1G2cfMtBDXI",
      "include_colab_link": true
    },
    "kernelspec": {
      "name": "python3",
      "display_name": "Python 3"
    },
    "language_info": {
      "name": "python"
    },
    "accelerator": "GPU"
  },
  "cells": [
    {
      "cell_type": "markdown",
      "metadata": {
        "id": "view-in-github",
        "colab_type": "text"
      },
      "source": [
        "<a href=\"https://colab.research.google.com/github/avkornaev/Cells_counter/blob/main/Diaphanoscopy_template.ipynb\" target=\"_parent\"><img src=\"https://colab.research.google.com/assets/colab-badge.svg\" alt=\"Open In Colab\"/></a>"
      ]
    },
    {
      "cell_type": "markdown",
      "metadata": {
        "id": "PzgSi2dDmPkX"
      },
      "source": [
        "#Установка библиотек"
      ]
    },
    {
      "cell_type": "code",
      "metadata": {
        "id": "dTavFqfdlkSJ"
      },
      "source": [
        "!pip install -Uqq fastbook\n",
        "import fastbook\n",
        "fastbook.setup_book()"
      ],
      "execution_count": 186,
      "outputs": []
    },
    {
      "cell_type": "markdown",
      "metadata": {
        "id": "8Bo1Rkioo6V0"
      },
      "source": [
        "**Импорт библиотек**"
      ]
    },
    {
      "cell_type": "code",
      "metadata": {
        "id": "erMM9mqoo-fN"
      },
      "source": [
        "from fastai.vision.all import *"
      ],
      "execution_count": 187,
      "outputs": []
    },
    {
      "cell_type": "markdown",
      "metadata": {
        "id": "8MntOCaNpQQO"
      },
      "source": [
        "#Загрузка данных и формирование датасета"
      ]
    },
    {
      "cell_type": "code",
      "metadata": {
        "id": "6Lr_l20cpVel"
      },
      "source": [
        "#path =  Path('/content/gdrive/MyDrive/work/Pattern recognition/Practice_Bears')\n",
        "path = Path('/content/gdrive/MyDrive/work/Pattern recognition/Practice_Diaphanoscopy')"
      ],
      "execution_count": 188,
      "outputs": []
    },
    {
      "cell_type": "code",
      "metadata": {
        "colab": {
          "base_uri": "https://localhost:8080/"
        },
        "id": "PENVrfHVqAaE",
        "outputId": "53693ded-a596-4fa8-e634-7965a34eb3f5"
      },
      "source": [
        "path.ls()"
      ],
      "execution_count": 189,
      "outputs": [
        {
          "output_type": "execute_result",
          "data": {
            "text/plain": [
              "(#2) [Path('/content/gdrive/MyDrive/work/Pattern recognition/Practice_Diaphanoscopy/Patients'),Path('/content/gdrive/MyDrive/work/Pattern recognition/Practice_Diaphanoscopy/Healthy')]"
            ]
          },
          "metadata": {},
          "execution_count": 189
        }
      ]
    },
    {
      "cell_type": "markdown",
      "metadata": {
        "id": "m8a3cGJKqUn3"
      },
      "source": [
        "Считывание адресов файлов изображений"
      ]
    },
    {
      "cell_type": "code",
      "source": [
        ""
      ],
      "metadata": {
        "id": "VWMXIQcH-hFR"
      },
      "execution_count": 189,
      "outputs": []
    },
    {
      "cell_type": "code",
      "metadata": {
        "id": "1W7ZMw4EqYyG"
      },
      "source": [
        "files = get_image_files(path)"
      ],
      "execution_count": 190,
      "outputs": []
    },
    {
      "cell_type": "code",
      "metadata": {
        "colab": {
          "base_uri": "https://localhost:8080/"
        },
        "id": "PjtQBqkxqnXH",
        "outputId": "64418f99-c77b-419f-8eb7-d3a6d2ba2ccd"
      },
      "source": [
        "len(files)"
      ],
      "execution_count": 191,
      "outputs": [
        {
          "output_type": "execute_result",
          "data": {
            "text/plain": [
              "54"
            ]
          },
          "metadata": {},
          "execution_count": 191
        }
      ]
    },
    {
      "cell_type": "code",
      "metadata": {
        "colab": {
          "base_uri": "https://localhost:8080/"
        },
        "id": "CbMUE2XGqsCJ",
        "outputId": "f6534af7-9543-4b0b-beab-d4270d715800"
      },
      "source": [
        "files[0],files[2]"
      ],
      "execution_count": 192,
      "outputs": [
        {
          "output_type": "execute_result",
          "data": {
            "text/plain": [
              "(Path('/content/gdrive/MyDrive/work/Pattern recognition/Practice_Diaphanoscopy/Patients/1_650_L40.bmp'),\n",
              " Path('/content/gdrive/MyDrive/work/Pattern recognition/Practice_Diaphanoscopy/Patients/3_650_L41.bmp'))"
            ]
          },
          "metadata": {},
          "execution_count": 192
        }
      ]
    },
    {
      "cell_type": "markdown",
      "metadata": {
        "id": "sDUvEl6stnY2"
      },
      "source": [
        "**Создание датасета**\n",
        "\n",
        "Используется DataBlock и DataLoader. Разметка данных осуществляется по названиям папок с помощью функции parent_label.\n",
        "\n"
      ]
    },
    {
      "cell_type": "code",
      "metadata": {
        "id": "UtpP5Duotqx7"
      },
      "source": [
        "ds = DataBlock(\n",
        "    blocks=(ImageBlock, CategoryBlock),\n",
        "    get_items=get_image_files,\n",
        "    splitter=RandomSplitter(valid_pct=0.3,seed=42),\n",
        "    get_y=parent_label)"
      ],
      "execution_count": 193,
      "outputs": []
    },
    {
      "cell_type": "markdown",
      "source": [
        "Аугментация данных\n",
        " https://docs.fast.ai/vision.augment.html"
      ],
      "metadata": {
        "id": "R-6j4PxeDvRf"
      }
    },
    {
      "cell_type": "code",
      "source": [
        "??aug_transforms"
      ],
      "metadata": {
        "id": "AUz3OvRICoOB"
      },
      "execution_count": 194,
      "outputs": []
    },
    {
      "cell_type": "code",
      "metadata": {
        "id": "EkDUW28AJDfk"
      },
      "source": [
        "ds = ds.new(item_tfms=RandomResizedCrop(128, min_scale=0.6),\n",
        "            batch_tfms=aug_transforms(mult=2, do_flip=False, max_lighting=0.3, max_warp=0.1))"
      ],
      "execution_count": 195,
      "outputs": []
    },
    {
      "cell_type": "markdown",
      "source": [
        "Загрузка данных"
      ],
      "metadata": {
        "id": "VfkaNFL0D2Gn"
      }
    },
    {
      "cell_type": "code",
      "source": [
        "??DataBlock.dataloaders"
      ],
      "metadata": {
        "id": "WldxoMguB7lp"
      },
      "execution_count": 196,
      "outputs": []
    },
    {
      "cell_type": "code",
      "metadata": {
        "id": "i4C6GNY8GDyg"
      },
      "source": [
        "dls = ds.dataloaders(path,bs=8,shuffle=True)"
      ],
      "execution_count": 197,
      "outputs": []
    },
    {
      "cell_type": "markdown",
      "metadata": {
        "id": "wysa6stkup1k"
      },
      "source": [
        "Просмотр примера изображений"
      ]
    },
    {
      "cell_type": "code",
      "metadata": {
        "colab": {
          "base_uri": "https://localhost:8080/",
          "height": 370
        },
        "id": "hhgHZIz1uzKN",
        "outputId": "98a5030c-e8f1-4cba-a1c2-4776c2c281a5"
      },
      "source": [
        "dls.show_batch(max_n=8, nrows=2, unique=False)"
      ],
      "execution_count": 198,
      "outputs": [
        {
          "output_type": "display_data",
          "data": {
            "text/plain": [
              "<Figure size 864x432 with 8 Axes>"
            ],
            "image/png": "[encoded data removed]"
          },
          "metadata": {
            "needs_background": "light"
          }
        }
      ]
    },
    {
      "cell_type": "markdown",
      "metadata": {
        "id": "XyypoKHSwpmJ"
      },
      "source": [
        "#Обучение"
      ]
    },
    {
      "cell_type": "code",
      "metadata": {
        "id": "f9R7rIUei-QO"
      },
      "source": [
        "#??cnn_learner"
      ],
      "execution_count": 199,
      "outputs": []
    },
    {
      "cell_type": "code",
      "metadata": {
        "id": "CgsOH5uiwsUv"
      },
      "source": [
        "learn = cnn_learner(dls,resnet34,metrics=error_rate,pretrained=True,lr=1e-4)"
      ],
      "execution_count": 200,
      "outputs": []
    },
    {
      "cell_type": "markdown",
      "metadata": {
        "id": "aiZ63oOHl_DP"
      },
      "source": [
        "Целевая функция"
      ]
    },
    {
      "cell_type": "code",
      "metadata": {
        "id": "BwXSD7O9LbVD",
        "colab": {
          "base_uri": "https://localhost:8080/"
        },
        "outputId": "da60f4c3-34d9-42d5-b487-7133b5da5ccf"
      },
      "source": [
        "learn.loss_func"
      ],
      "execution_count": 201,
      "outputs": [
        {
          "output_type": "execute_result",
          "data": {
            "text/plain": [
              "FlattenedLoss of CrossEntropyLoss()"
            ]
          },
          "metadata": {},
          "execution_count": 201
        }
      ]
    },
    {
      "cell_type": "markdown",
      "metadata": {
        "id": "HFq7G8Yvl5TQ"
      },
      "source": [
        "Метод поиска экстремума"
      ]
    },
    {
      "cell_type": "code",
      "metadata": {
        "id": "XqP3iIRULg3z",
        "colab": {
          "base_uri": "https://localhost:8080/"
        },
        "outputId": "4d13f39a-5901-48fb-c9b5-4860dff5c225"
      },
      "source": [
        "learn.opt_func"
      ],
      "execution_count": 202,
      "outputs": [
        {
          "output_type": "execute_result",
          "data": {
            "text/plain": [
              "<function fastai.optimizer.Adam>"
            ]
          },
          "metadata": {},
          "execution_count": 202
        }
      ]
    },
    {
      "cell_type": "markdown",
      "metadata": {
        "id": "JWLfjALIl1vQ"
      },
      "source": [
        "Подбор скорости обучения. Строку ниже можно закоментировать. "
      ]
    },
    {
      "cell_type": "code",
      "metadata": {
        "id": "d_4A_F92LkXe"
      },
      "source": [
        "# hide\n",
        "#learn.lr_find()"
      ],
      "execution_count": 203,
      "outputs": []
    },
    {
      "cell_type": "code",
      "metadata": {
        "id": "XUImeWRmLd-8",
        "colab": {
          "base_uri": "https://localhost:8080/",
          "height": 1000
        },
        "outputId": "bdbbe014-80af-4ec6-b4b9-ae71cfadb9a8"
      },
      "source": [
        "learn.fine_tune(45)"
      ],
      "execution_count": 204,
      "outputs": [
        {
          "output_type": "display_data",
          "data": {
            "text/plain": [
              "<IPython.core.display.HTML object>"
            ],
            "text/html": [
              "\n",
              "<style>\n",
              "    /* Turns off some styling */\n",
              "    progress {\n",
              "        /* gets rid of default border in Firefox and Opera. */\n",
              "        border: none;\n",
              "        /* Needs to be in here for Safari polyfill so background images work as expected. */\n",
              "        background-size: auto;\n",
              "    }\n",
              "    .progress-bar-interrupted, .progress-bar-interrupted::-webkit-progress-bar {\n",
              "        background: #F44336;\n",
              "    }\n",
              "</style>\n"
            ]
          },
          "metadata": {}
        },
        {
          "output_type": "display_data",
          "data": {
            "text/plain": [
              "<IPython.core.display.HTML object>"
            ],
            "text/html": [
              "<table border=\"1\" class=\"dataframe\">\n",
              "  <thead>\n",
              "    <tr style=\"text-align: left;\">\n",
              "      <th>epoch</th>\n",
              "      <th>train_loss</th>\n",
              "      <th>valid_loss</th>\n",
              "      <th>error_rate</th>\n",
              "      <th>time</th>\n",
              "    </tr>\n",
              "  </thead>\n",
              "  <tbody>\n",
              "    <tr>\n",
              "      <td>0</td>\n",
              "      <td>1.028437</td>\n",
              "      <td>0.766698</td>\n",
              "      <td>0.312500</td>\n",
              "      <td>00:02</td>\n",
              "    </tr>\n",
              "  </tbody>\n",
              "</table>"
            ]
          },
          "metadata": {}
        },
        {
          "output_type": "display_data",
          "data": {
            "text/plain": [
              "<IPython.core.display.HTML object>"
            ],
            "text/html": [
              "\n",
              "<style>\n",
              "    /* Turns off some styling */\n",
              "    progress {\n",
              "        /* gets rid of default border in Firefox and Opera. */\n",
              "        border: none;\n",
              "        /* Needs to be in here for Safari polyfill so background images work as expected. */\n",
              "        background-size: auto;\n",
              "    }\n",
              "    .progress-bar-interrupted, .progress-bar-interrupted::-webkit-progress-bar {\n",
              "        background: #F44336;\n",
              "    }\n",
              "</style>\n"
            ]
          },
          "metadata": {}
        },
        {
          "output_type": "display_data",
          "data": {
            "text/plain": [
              "<IPython.core.display.HTML object>"
            ],
            "text/html": [
              "<table border=\"1\" class=\"dataframe\">\n",
              "  <thead>\n",
              "    <tr style=\"text-align: left;\">\n",
              "      <th>epoch</th>\n",
              "      <th>train_loss</th>\n",
              "      <th>valid_loss</th>\n",
              "      <th>error_rate</th>\n",
              "      <th>time</th>\n",
              "    </tr>\n",
              "  </thead>\n",
              "  <tbody>\n",
              "    <tr>\n",
              "      <td>0</td>\n",
              "      <td>0.811480</td>\n",
              "      <td>0.677336</td>\n",
              "      <td>0.250000</td>\n",
              "      <td>00:03</td>\n",
              "    </tr>\n",
              "    <tr>\n",
              "      <td>1</td>\n",
              "      <td>0.864094</td>\n",
              "      <td>0.759155</td>\n",
              "      <td>0.187500</td>\n",
              "      <td>00:03</td>\n",
              "    </tr>\n",
              "    <tr>\n",
              "      <td>2</td>\n",
              "      <td>1.004422</td>\n",
              "      <td>0.825353</td>\n",
              "      <td>0.312500</td>\n",
              "      <td>00:03</td>\n",
              "    </tr>\n",
              "    <tr>\n",
              "      <td>3</td>\n",
              "      <td>0.972231</td>\n",
              "      <td>0.772978</td>\n",
              "      <td>0.312500</td>\n",
              "      <td>00:03</td>\n",
              "    </tr>\n",
              "    <tr>\n",
              "      <td>4</td>\n",
              "      <td>0.963356</td>\n",
              "      <td>0.829182</td>\n",
              "      <td>0.312500</td>\n",
              "      <td>00:03</td>\n",
              "    </tr>\n",
              "    <tr>\n",
              "      <td>5</td>\n",
              "      <td>0.916744</td>\n",
              "      <td>0.788293</td>\n",
              "      <td>0.312500</td>\n",
              "      <td>00:03</td>\n",
              "    </tr>\n",
              "    <tr>\n",
              "      <td>6</td>\n",
              "      <td>0.894352</td>\n",
              "      <td>0.714645</td>\n",
              "      <td>0.187500</td>\n",
              "      <td>00:03</td>\n",
              "    </tr>\n",
              "    <tr>\n",
              "      <td>7</td>\n",
              "      <td>0.859490</td>\n",
              "      <td>0.714220</td>\n",
              "      <td>0.125000</td>\n",
              "      <td>00:02</td>\n",
              "    </tr>\n",
              "    <tr>\n",
              "      <td>8</td>\n",
              "      <td>0.815317</td>\n",
              "      <td>0.800291</td>\n",
              "      <td>0.187500</td>\n",
              "      <td>00:02</td>\n",
              "    </tr>\n",
              "    <tr>\n",
              "      <td>9</td>\n",
              "      <td>0.773708</td>\n",
              "      <td>0.931178</td>\n",
              "      <td>0.250000</td>\n",
              "      <td>00:02</td>\n",
              "    </tr>\n",
              "    <tr>\n",
              "      <td>10</td>\n",
              "      <td>0.737671</td>\n",
              "      <td>0.984158</td>\n",
              "      <td>0.250000</td>\n",
              "      <td>00:02</td>\n",
              "    </tr>\n",
              "    <tr>\n",
              "      <td>11</td>\n",
              "      <td>0.755244</td>\n",
              "      <td>0.896450</td>\n",
              "      <td>0.312500</td>\n",
              "      <td>00:02</td>\n",
              "    </tr>\n",
              "    <tr>\n",
              "      <td>12</td>\n",
              "      <td>0.772272</td>\n",
              "      <td>0.952023</td>\n",
              "      <td>0.312500</td>\n",
              "      <td>00:02</td>\n",
              "    </tr>\n",
              "    <tr>\n",
              "      <td>13</td>\n",
              "      <td>0.756860</td>\n",
              "      <td>1.166213</td>\n",
              "      <td>0.375000</td>\n",
              "      <td>00:02</td>\n",
              "    </tr>\n",
              "    <tr>\n",
              "      <td>14</td>\n",
              "      <td>0.752834</td>\n",
              "      <td>1.207015</td>\n",
              "      <td>0.375000</td>\n",
              "      <td>00:02</td>\n",
              "    </tr>\n",
              "    <tr>\n",
              "      <td>15</td>\n",
              "      <td>0.760067</td>\n",
              "      <td>1.049162</td>\n",
              "      <td>0.312500</td>\n",
              "      <td>00:02</td>\n",
              "    </tr>\n",
              "    <tr>\n",
              "      <td>16</td>\n",
              "      <td>0.746579</td>\n",
              "      <td>1.216230</td>\n",
              "      <td>0.187500</td>\n",
              "      <td>00:02</td>\n",
              "    </tr>\n",
              "    <tr>\n",
              "      <td>17</td>\n",
              "      <td>0.712713</td>\n",
              "      <td>0.972109</td>\n",
              "      <td>0.125000</td>\n",
              "      <td>00:02</td>\n",
              "    </tr>\n",
              "    <tr>\n",
              "      <td>18</td>\n",
              "      <td>0.673031</td>\n",
              "      <td>1.127051</td>\n",
              "      <td>0.187500</td>\n",
              "      <td>00:02</td>\n",
              "    </tr>\n",
              "    <tr>\n",
              "      <td>19</td>\n",
              "      <td>0.718526</td>\n",
              "      <td>1.325468</td>\n",
              "      <td>0.187500</td>\n",
              "      <td>00:02</td>\n",
              "    </tr>\n",
              "    <tr>\n",
              "      <td>20</td>\n",
              "      <td>0.741756</td>\n",
              "      <td>1.339967</td>\n",
              "      <td>0.312500</td>\n",
              "      <td>00:02</td>\n",
              "    </tr>\n",
              "    <tr>\n",
              "      <td>21</td>\n",
              "      <td>0.700727</td>\n",
              "      <td>1.011487</td>\n",
              "      <td>0.250000</td>\n",
              "      <td>00:02</td>\n",
              "    </tr>\n",
              "    <tr>\n",
              "      <td>22</td>\n",
              "      <td>0.674244</td>\n",
              "      <td>0.713916</td>\n",
              "      <td>0.125000</td>\n",
              "      <td>00:02</td>\n",
              "    </tr>\n",
              "    <tr>\n",
              "      <td>23</td>\n",
              "      <td>0.745478</td>\n",
              "      <td>0.727216</td>\n",
              "      <td>0.125000</td>\n",
              "      <td>00:02</td>\n",
              "    </tr>\n",
              "    <tr>\n",
              "      <td>24</td>\n",
              "      <td>0.733535</td>\n",
              "      <td>0.696918</td>\n",
              "      <td>0.125000</td>\n",
              "      <td>00:02</td>\n",
              "    </tr>\n",
              "    <tr>\n",
              "      <td>25</td>\n",
              "      <td>0.773231</td>\n",
              "      <td>0.637024</td>\n",
              "      <td>0.125000</td>\n",
              "      <td>00:02</td>\n",
              "    </tr>\n",
              "    <tr>\n",
              "      <td>26</td>\n",
              "      <td>0.759409</td>\n",
              "      <td>0.795447</td>\n",
              "      <td>0.187500</td>\n",
              "      <td>00:02</td>\n",
              "    </tr>\n",
              "    <tr>\n",
              "      <td>27</td>\n",
              "      <td>0.727503</td>\n",
              "      <td>0.991413</td>\n",
              "      <td>0.250000</td>\n",
              "      <td>00:02</td>\n",
              "    </tr>\n",
              "    <tr>\n",
              "      <td>28</td>\n",
              "      <td>0.701486</td>\n",
              "      <td>1.004627</td>\n",
              "      <td>0.250000</td>\n",
              "      <td>00:02</td>\n",
              "    </tr>\n",
              "    <tr>\n",
              "      <td>29</td>\n",
              "      <td>0.696713</td>\n",
              "      <td>0.984509</td>\n",
              "      <td>0.187500</td>\n",
              "      <td>00:02</td>\n",
              "    </tr>\n",
              "    <tr>\n",
              "      <td>30</td>\n",
              "      <td>0.696287</td>\n",
              "      <td>0.906352</td>\n",
              "      <td>0.187500</td>\n",
              "      <td>00:02</td>\n",
              "    </tr>\n",
              "    <tr>\n",
              "      <td>31</td>\n",
              "      <td>0.687750</td>\n",
              "      <td>0.853245</td>\n",
              "      <td>0.187500</td>\n",
              "      <td>00:02</td>\n",
              "    </tr>\n",
              "    <tr>\n",
              "      <td>32</td>\n",
              "      <td>0.680634</td>\n",
              "      <td>0.775173</td>\n",
              "      <td>0.187500</td>\n",
              "      <td>00:02</td>\n",
              "    </tr>\n",
              "    <tr>\n",
              "      <td>33</td>\n",
              "      <td>0.657330</td>\n",
              "      <td>0.834711</td>\n",
              "      <td>0.187500</td>\n",
              "      <td>00:02</td>\n",
              "    </tr>\n",
              "    <tr>\n",
              "      <td>34</td>\n",
              "      <td>0.669258</td>\n",
              "      <td>0.770927</td>\n",
              "      <td>0.187500</td>\n",
              "      <td>00:02</td>\n",
              "    </tr>\n",
              "    <tr>\n",
              "      <td>35</td>\n",
              "      <td>0.668189</td>\n",
              "      <td>0.666253</td>\n",
              "      <td>0.062500</td>\n",
              "      <td>00:02</td>\n",
              "    </tr>\n",
              "    <tr>\n",
              "      <td>36</td>\n",
              "      <td>0.653302</td>\n",
              "      <td>0.675722</td>\n",
              "      <td>0.125000</td>\n",
              "      <td>00:02</td>\n",
              "    </tr>\n",
              "    <tr>\n",
              "      <td>37</td>\n",
              "      <td>0.662420</td>\n",
              "      <td>0.716016</td>\n",
              "      <td>0.187500</td>\n",
              "      <td>00:02</td>\n",
              "    </tr>\n",
              "    <tr>\n",
              "      <td>38</td>\n",
              "      <td>0.619145</td>\n",
              "      <td>0.696286</td>\n",
              "      <td>0.187500</td>\n",
              "      <td>00:02</td>\n",
              "    </tr>\n",
              "    <tr>\n",
              "      <td>39</td>\n",
              "      <td>0.606099</td>\n",
              "      <td>0.772234</td>\n",
              "      <td>0.187500</td>\n",
              "      <td>00:02</td>\n",
              "    </tr>\n",
              "    <tr>\n",
              "      <td>40</td>\n",
              "      <td>0.591816</td>\n",
              "      <td>0.739662</td>\n",
              "      <td>0.125000</td>\n",
              "      <td>00:02</td>\n",
              "    </tr>\n",
              "    <tr>\n",
              "      <td>41</td>\n",
              "      <td>0.555192</td>\n",
              "      <td>0.739701</td>\n",
              "      <td>0.125000</td>\n",
              "      <td>00:02</td>\n",
              "    </tr>\n",
              "    <tr>\n",
              "      <td>42</td>\n",
              "      <td>0.536122</td>\n",
              "      <td>0.721749</td>\n",
              "      <td>0.125000</td>\n",
              "      <td>00:02</td>\n",
              "    </tr>\n",
              "    <tr>\n",
              "      <td>43</td>\n",
              "      <td>0.528069</td>\n",
              "      <td>0.728986</td>\n",
              "      <td>0.125000</td>\n",
              "      <td>00:02</td>\n",
              "    </tr>\n",
              "    <tr>\n",
              "      <td>44</td>\n",
              "      <td>0.530482</td>\n",
              "      <td>0.693931</td>\n",
              "      <td>0.062500</td>\n",
              "      <td>00:02</td>\n",
              "    </tr>\n",
              "  </tbody>\n",
              "</table>"
            ]
          },
          "metadata": {}
        }
      ]
    },
    {
      "cell_type": "markdown",
      "metadata": {
        "id": "sCFfpP1sx_N0"
      },
      "source": [
        "#Результаты\n",
        "\n",
        "Предсказание для любого конкретного изображения"
      ]
    },
    {
      "cell_type": "code",
      "metadata": {
        "id": "_wYfzdXuyKXy",
        "colab": {
          "base_uri": "https://localhost:8080/",
          "height": 52
        },
        "outputId": "1a9e9f5c-655d-486c-b83e-decb60859d24"
      },
      "source": [
        "learn.predict(files[21]), files[21]"
      ],
      "execution_count": 205,
      "outputs": [
        {
          "output_type": "display_data",
          "data": {
            "text/plain": [
              "<IPython.core.display.HTML object>"
            ],
            "text/html": [
              "\n",
              "<style>\n",
              "    /* Turns off some styling */\n",
              "    progress {\n",
              "        /* gets rid of default border in Firefox and Opera. */\n",
              "        border: none;\n",
              "        /* Needs to be in here for Safari polyfill so background images work as expected. */\n",
              "        background-size: auto;\n",
              "    }\n",
              "    .progress-bar-interrupted, .progress-bar-interrupted::-webkit-progress-bar {\n",
              "        background: #F44336;\n",
              "    }\n",
              "</style>\n"
            ]
          },
          "metadata": {}
        },
        {
          "output_type": "display_data",
          "data": {
            "text/plain": [
              "<IPython.core.display.HTML object>"
            ],
            "text/html": [
              ""
            ]
          },
          "metadata": {}
        },
        {
          "output_type": "execute_result",
          "data": {
            "text/plain": [
              "(('Healthy', TensorBase(0), TensorBase([0.9989, 0.0011])),\n",
              " Path('/content/gdrive/MyDrive/work/Pattern recognition/Practice_Diaphanoscopy/Healthy/1_650_L01.bmp'))"
            ]
          },
          "metadata": {},
          "execution_count": 205
        }
      ]
    },
    {
      "cell_type": "markdown",
      "metadata": {
        "id": "x0TZSoFByekY"
      },
      "source": [
        "Визуализация предсказаний."
      ]
    },
    {
      "cell_type": "code",
      "metadata": {
        "id": "UZKsIbzFyiMW",
        "colab": {
          "base_uri": "https://localhost:8080/",
          "height": 385
        },
        "outputId": "3efe747a-190f-4e2a-c8dd-e38ca2306055"
      },
      "source": [
        "learn.show_results()"
      ],
      "execution_count": 206,
      "outputs": [
        {
          "output_type": "display_data",
          "data": {
            "text/plain": [
              "<IPython.core.display.HTML object>"
            ],
            "text/html": [
              "\n",
              "<style>\n",
              "    /* Turns off some styling */\n",
              "    progress {\n",
              "        /* gets rid of default border in Firefox and Opera. */\n",
              "        border: none;\n",
              "        /* Needs to be in here for Safari polyfill so background images work as expected. */\n",
              "        background-size: auto;\n",
              "    }\n",
              "    .progress-bar-interrupted, .progress-bar-interrupted::-webkit-progress-bar {\n",
              "        background: #F44336;\n",
              "    }\n",
              "</style>\n"
            ]
          },
          "metadata": {}
        },
        {
          "output_type": "display_data",
          "data": {
            "text/plain": [
              "<IPython.core.display.HTML object>"
            ],
            "text/html": [
              ""
            ]
          },
          "metadata": {}
        },
        {
          "output_type": "display_data",
          "data": {
            "text/plain": [
              "<Figure size 864x432 with 8 Axes>"
            ],
            "image/png": "[encoded data removed]"
          },
          "metadata": {
            "needs_background": "light"
          }
        }
      ]
    },
    {
      "cell_type": "markdown",
      "source": [
        "Визуализация топа ошибок."
      ],
      "metadata": {
        "id": "tLQ8qS8vxTj4"
      }
    },
    {
      "cell_type": "code",
      "source": [
        "interp.plot_top_losses(9, nrows=1)"
      ],
      "metadata": {
        "id": "sNM6AAvAxSla",
        "outputId": "e1e63eaa-238c-44a0-d4d0-25012f6d748a",
        "colab": {
          "base_uri": "https://localhost:8080/",
          "height": 160
        }
      },
      "execution_count": 220,
      "outputs": [
        {
          "output_type": "display_data",
          "data": {
            "text/plain": [
              "<Figure size 1944x216 with 9 Axes>"
            ],
            "image/png": "[encoded data removed]"
          },
          "metadata": {
            "needs_background": "light"
          }
        }
      ]
    },
    {
      "cell_type": "markdown",
      "metadata": {
        "id": "7pMcnBffKsZU"
      },
      "source": [
        "**Оценка точности**"
      ]
    },
    {
      "cell_type": "markdown",
      "metadata": {
        "id": "va_sKWwVmI1s"
      },
      "source": [
        "Матрица ошибок"
      ]
    },
    {
      "cell_type": "code",
      "metadata": {
        "id": "9RImudYiK0WA",
        "colab": {
          "base_uri": "https://localhost:8080/",
          "height": 311
        },
        "outputId": "e198b694-2d5e-4924-b67e-5db9179abb1c"
      },
      "source": [
        "interp = ClassificationInterpretation.from_learner(learn)\n",
        "interp.plot_confusion_matrix()"
      ],
      "execution_count": 219,
      "outputs": [
        {
          "output_type": "display_data",
          "data": {
            "text/plain": [
              "<IPython.core.display.HTML object>"
            ],
            "text/html": [
              "\n",
              "<style>\n",
              "    /* Turns off some styling */\n",
              "    progress {\n",
              "        /* gets rid of default border in Firefox and Opera. */\n",
              "        border: none;\n",
              "        /* Needs to be in here for Safari polyfill so background images work as expected. */\n",
              "        background-size: auto;\n",
              "    }\n",
              "    .progress-bar-interrupted, .progress-bar-interrupted::-webkit-progress-bar {\n",
              "        background: #F44336;\n",
              "    }\n",
              "</style>\n"
            ]
          },
          "metadata": {}
        },
        {
          "output_type": "display_data",
          "data": {
            "text/plain": [
              "<IPython.core.display.HTML object>"
            ],
            "text/html": [
              ""
            ]
          },
          "metadata": {}
        },
        {
          "output_type": "display_data",
          "data": {
            "text/plain": [
              "<Figure size 432x288 with 1 Axes>"
            ],
            "image/png": "[encoded data removed]"
          },
          "metadata": {
            "needs_background": "light"
          }
        }
      ]
    },
    {
      "cell_type": "code",
      "metadata": {
        "id": "uoR8uVA8LAQG",
        "colab": {
          "base_uri": "https://localhost:8080/"
        },
        "outputId": "355db2aa-07c1-43e8-d655-d6ab27a23ff9"
      },
      "source": [
        "upp, low = interp.confusion_matrix()\n",
        "tn, fp = upp[0], upp[1]\n",
        "fn, tp = low[0], low[1]\n",
        "print(tn, fp, fn, tp)"
      ],
      "execution_count": 209,
      "outputs": [
        {
          "output_type": "stream",
          "name": "stdout",
          "text": [
            "12 0 1 3\n"
          ]
        }
      ]
    },
    {
      "cell_type": "code",
      "metadata": {
        "id": "3YcNdBZoMWpf",
        "colab": {
          "base_uri": "https://localhost:8080/"
        },
        "outputId": "00335d63-1397-40e4-c4b3-542848005be5"
      },
      "source": [
        "sensitivity = tp/(tp + fn)\n",
        "sensitivity"
      ],
      "execution_count": 210,
      "outputs": [
        {
          "output_type": "execute_result",
          "data": {
            "text/plain": [
              "0.75"
            ]
          },
          "metadata": {},
          "execution_count": 210
        }
      ]
    },
    {
      "cell_type": "markdown",
      "metadata": {
        "id": "IqJ0QAx-mPDO"
      },
      "source": [
        "Специфичность"
      ]
    },
    {
      "cell_type": "code",
      "metadata": {
        "id": "4akREHvdMY-8",
        "colab": {
          "base_uri": "https://localhost:8080/"
        },
        "outputId": "09ba1bbf-5d67-4e9a-be02-55d543e9b580"
      },
      "source": [
        "specificity = tn/(fp + tn)\n",
        "specificity"
      ],
      "execution_count": 211,
      "outputs": [
        {
          "output_type": "execute_result",
          "data": {
            "text/plain": [
              "1.0"
            ]
          },
          "metadata": {},
          "execution_count": 211
        }
      ]
    },
    {
      "cell_type": "markdown",
      "metadata": {
        "id": "qtgxGyuoMtFm"
      },
      "source": [
        "Positive Predictive Value (PPV)"
      ]
    },
    {
      "cell_type": "code",
      "metadata": {
        "id": "5OvCRRlrMbKh",
        "colab": {
          "base_uri": "https://localhost:8080/"
        },
        "outputId": "eba2a849-aa1f-40f4-a8f1-0aa29b80e3bb"
      },
      "source": [
        "ppv = tp/(tp+fp)\n",
        "ppv"
      ],
      "execution_count": 212,
      "outputs": [
        {
          "output_type": "execute_result",
          "data": {
            "text/plain": [
              "1.0"
            ]
          },
          "metadata": {},
          "execution_count": 212
        }
      ]
    },
    {
      "cell_type": "markdown",
      "metadata": {
        "id": "3DGd02wfMuGK"
      },
      "source": [
        "Negative Predictive Value (NPV)"
      ]
    },
    {
      "cell_type": "code",
      "metadata": {
        "id": "W1nBNLwCMwkI",
        "colab": {
          "base_uri": "https://localhost:8080/"
        },
        "outputId": "6dec6bf3-6de6-4143-922b-d562196fef3f"
      },
      "source": [
        "npv = tn/(tn+fn)\n",
        "npv"
      ],
      "execution_count": 213,
      "outputs": [
        {
          "output_type": "execute_result",
          "data": {
            "text/plain": [
              "0.9230769230769231"
            ]
          },
          "metadata": {},
          "execution_count": 213
        }
      ]
    },
    {
      "cell_type": "markdown",
      "metadata": {
        "id": "TCa10fEZMywE"
      },
      "source": [
        "Calculating Accuracy"
      ]
    },
    {
      "cell_type": "code",
      "metadata": {
        "id": "KWAE7oWyM1dU",
        "colab": {
          "base_uri": "https://localhost:8080/"
        },
        "outputId": "f76e0bfb-d09b-48b4-9c39-d9acf0fca72f"
      },
      "source": [
        "acc = (tp+tn)/(tp+tn+fp+fn)\n",
        "acc"
      ],
      "execution_count": 214,
      "outputs": [
        {
          "output_type": "execute_result",
          "data": {
            "text/plain": [
              "0.9375"
            ]
          },
          "metadata": {},
          "execution_count": 214
        }
      ]
    },
    {
      "cell_type": "markdown",
      "source": [
        "#Сохранение и повторное использование"
      ],
      "metadata": {
        "id": "iMT00F0cI3AD"
      }
    },
    {
      "cell_type": "markdown",
      "source": [
        "From the book:\n",
        "Remember that a model consists of two parts: the architecture and the trained parameters. The easiest way to save the model is to save both of these, because that way when you load a model you can be sure that you have the matching architecture and parameters. To save both parts, use the export method.\n",
        "\n",
        "This method even saves the definition of how to create your DataLoaders. This is important, because otherwise you would have to redefine how to transform your data in order to use your model in production. fastai automatically uses your validation set DataLoader for inference by default, so your data augmentation will not be applied, which is generally what you want.\n",
        "\n",
        "When you call export, fastai will save a file called \"export.pkl\":"
      ],
      "metadata": {
        "id": "bKMdmN7EyK61"
      }
    },
    {
      "cell_type": "markdown",
      "source": [
        "Сохранение обученной сети"
      ],
      "metadata": {
        "id": "tBVPBZxBT_gU"
      }
    },
    {
      "cell_type": "code",
      "source": [
        "learn.export()"
      ],
      "metadata": {
        "id": "fmT2-FgvyMT0"
      },
      "execution_count": 215,
      "outputs": []
    },
    {
      "cell_type": "markdown",
      "source": [
        "Проверка результатов сохранения"
      ],
      "metadata": {
        "id": "zTFkkNnEyjsn"
      }
    },
    {
      "cell_type": "code",
      "source": [
        "path = Path()\n",
        "path.ls(file_exts='.pkl')"
      ],
      "metadata": {
        "id": "oV_AOHKKymVH",
        "outputId": "5455a0e4-b415-4a71-a6f9-4d24d54bba20",
        "colab": {
          "base_uri": "https://localhost:8080/"
        }
      },
      "execution_count": 216,
      "outputs": [
        {
          "output_type": "execute_result",
          "data": {
            "text/plain": [
              "(#1) [Path('export.pkl')]"
            ]
          },
          "metadata": {},
          "execution_count": 216
        }
      ]
    },
    {
      "cell_type": "markdown",
      "source": [
        "Использование обученной сети для предсказаний на новых данных. "
      ],
      "metadata": {
        "id": "tpufK50byRH-"
      }
    },
    {
      "cell_type": "code",
      "source": [
        "learn_inf = load_learner(path_all/'export.pkl')"
      ],
      "metadata": {
        "id": "eXe6vzqC35c3",
        "outputId": "43aaa7a9-2e49-4898-d427-418e3b19e704",
        "colab": {
          "base_uri": "https://localhost:8080/",
          "height": 165
        }
      },
      "execution_count": 217,
      "outputs": [
        {
          "output_type": "error",
          "ename": "NameError",
          "evalue": "ignored",
          "traceback": [
            "\u001b[0;31m---------------------------------------------------------------------------\u001b[0m",
            "\u001b[0;31mNameError\u001b[0m                                 Traceback (most recent call last)",
            "\u001b[0;32m<ipython-input-217-3c3688656789>\u001b[0m in \u001b[0;36m<module>\u001b[0;34m()\u001b[0m\n\u001b[0;32m----> 1\u001b[0;31m \u001b[0mlearn_inf\u001b[0m \u001b[0;34m=\u001b[0m \u001b[0mload_learner\u001b[0m\u001b[0;34m(\u001b[0m\u001b[0mpath_all\u001b[0m\u001b[0;34m/\u001b[0m\u001b[0;34m'export.pkl'\u001b[0m\u001b[0;34m)\u001b[0m\u001b[0;34m\u001b[0m\u001b[0;34m\u001b[0m\u001b[0m\n\u001b[0m",
            "\u001b[0;31mNameError\u001b[0m: name 'path_all' is not defined"
          ]
        }
      ]
    },
    {
      "cell_type": "code",
      "source": [
        "files_test = get_image_files(path_all/'Test')"
      ],
      "metadata": {
        "id": "4aaFwZce9lgS"
      },
      "execution_count": null,
      "outputs": []
    },
    {
      "cell_type": "code",
      "source": [
        "len(files_test)"
      ],
      "metadata": {
        "id": "5MdLd4df-VNY"
      },
      "execution_count": null,
      "outputs": []
    },
    {
      "cell_type": "markdown",
      "source": [
        "Предсказание на тестовых изображениях"
      ],
      "metadata": {
        "id": "HpHHDxTa_1Ln"
      }
    },
    {
      "cell_type": "markdown",
      "source": [
        "Одно изображение"
      ],
      "metadata": {
        "id": "pG_MVYmGBcmf"
      }
    },
    {
      "cell_type": "code",
      "source": [
        "learn_inf.predict(files_test[0])"
      ],
      "metadata": {
        "id": "r_OdbKqO-c42"
      },
      "execution_count": null,
      "outputs": []
    },
    {
      "cell_type": "markdown",
      "source": [
        "Вся папка"
      ],
      "metadata": {
        "id": "jjY6MYHlBfmP"
      }
    },
    {
      "cell_type": "code",
      "source": [
        "def func_accuracy(files_test):\n",
        "  tp, tn, fp, fn, acc = 0, 0, 0, 0, 0\n",
        "  feed = [0]*len(files_test)\n",
        "  pred = [0]*len(files_test)\n",
        "  gtrue = [0]*len(files_test)\n",
        "  labels_voc = learn_inf.dls.vocab # labels\n",
        "  for ind, o in enumerate(files_test):\n",
        "    feed[ind] = learn_inf.predict(o)\n",
        "    pred[ind] = labels_voc[feed[ind][-1].argmax()]\n",
        "    gtrue[ind] =feed[ind][0]\n",
        "    acc += int(gtrue[ind] == pred[ind])\n",
        "    #print(gtrue[ind], pred[ind])\n",
        "  return acc/len(files_test)"
      ],
      "metadata": {
        "id": "Gw6AWYl6Bjvd"
      },
      "execution_count": null,
      "outputs": []
    },
    {
      "cell_type": "code",
      "source": [
        "func_accuracy(files_test)"
      ],
      "metadata": {
        "id": "PrlO1hj0G1HR"
      },
      "execution_count": null,
      "outputs": []
    },
    {
      "cell_type": "markdown",
      "source": [
        "#Ссылки"
      ],
      "metadata": {
        "id": "kMHoqrpLKLCH"
      }
    },
    {
      "cell_type": "markdown",
      "metadata": {
        "id": "a7NdKNHgMeiq"
      },
      "source": [
        "\n",
        "\n",
        "https://github.com/avkornaev/Fast_AI_course/blob/main/02_production_v3_online.ipynb\n",
        "\n",
        "https://docs.fast.ai/tutorial.medical_imaging.html\n",
        "\n",
        "https://docs.fast.ai/data.block.html#DataBlock\n",
        "\n",
        "\n"
      ]
    }
  ]
}