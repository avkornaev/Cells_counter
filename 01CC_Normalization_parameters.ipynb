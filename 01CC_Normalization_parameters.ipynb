{
  "nbformat": 4,
  "nbformat_minor": 0,
  "metadata": {
    "colab": {
      "name": "01CC_Normalization_parameters",
      "provenance": [],
      "collapsed_sections": [],
      "mount_file_id": "1lJyllNwg09V3MKQvS0BcjjC_HxTgZz6R",
      "authorship_tag": "ABX9TyPUeGoNxodoGP9V2+j8OGfx",
      "include_colab_link": true
    },
    "kernelspec": {
      "display_name": "Python 3",
      "name": "python3"
    },
    "language_info": {
      "name": "python"
    }
  },
  "cells": [
    {
      "cell_type": "markdown",
      "metadata": {
        "id": "view-in-github",
        "colab_type": "text"
      },
      "source": [
        "<a href=\"https://colab.research.google.com/github/avkornaev/Cells_counter/blob/main/01CC_Normalization_parameters.ipynb\" target=\"_parent\"><img src=\"https://colab.research.google.com/assets/colab-badge.svg\" alt=\"Open In Colab\"/></a>"
      ]
    },
    {
      "cell_type": "markdown",
      "metadata": {
        "id": "PQY2xOF_dr6c"
      },
      "source": [
        "Summary.\n",
        "\n",
        "The cells counter very first step is calculation of the normalization parameters."
      ]
    },
    {
      "cell_type": "markdown",
      "metadata": {
        "id": "QvjlGUA_90C2"
      },
      "source": [
        "#**Install libraries**.\n",
        "\n"
      ]
    },
    {
      "cell_type": "code",
      "metadata": {
        "id": "JOSgxVVtwhBQ",
        "colab": {
          "base_uri": "https://localhost:8080/"
        },
        "outputId": "4f3340e1-0826-45cd-bb87-aa396dc1c4ac"
      },
      "source": [
        "!pip install -Uqq fastbook\n",
        "!pip install czifile\n",
        "!pip install tifffile\n",
        "!pip install imagecodecs"
      ],
      "execution_count": 1,
      "outputs": [
        {
          "output_type": "stream",
          "name": "stdout",
          "text": [
            "Requirement already satisfied: czifile in /usr/local/lib/python3.7/dist-packages (2019.7.2)\n",
            "Requirement already satisfied: tifffile>=2019.7.2 in /usr/local/lib/python3.7/dist-packages (from czifile) (2021.10.12)\n",
            "Requirement already satisfied: numpy>=1.11.3 in /usr/local/lib/python3.7/dist-packages (from czifile) (1.19.5)\n",
            "Requirement already satisfied: tifffile in /usr/local/lib/python3.7/dist-packages (2021.10.12)\n",
            "Requirement already satisfied: numpy>=1.15.1 in /usr/local/lib/python3.7/dist-packages (from tifffile) (1.19.5)\n",
            "Requirement already satisfied: imagecodecs in /usr/local/lib/python3.7/dist-packages (2021.8.26)\n",
            "Requirement already satisfied: numpy>=1.15.1 in /usr/local/lib/python3.7/dist-packages (from imagecodecs) (1.19.5)\n"
          ]
        }
      ]
    },
    {
      "cell_type": "markdown",
      "metadata": {
        "id": "x-4KWkun_4cg"
      },
      "source": [
        "#**Connect to Google disk.**"
      ]
    },
    {
      "cell_type": "code",
      "metadata": {
        "id": "nWfh1iaz__LW",
        "colab": {
          "base_uri": "https://localhost:8080/"
        },
        "outputId": "30c5596c-445c-424a-9b35-9f9c75914e13"
      },
      "source": [
        "from google.colab import drive\n",
        "drive.mount('/content/drive')"
      ],
      "execution_count": 2,
      "outputs": [
        {
          "output_type": "stream",
          "name": "stdout",
          "text": [
            "Drive already mounted at /content/drive; to attempt to forcibly remount, call drive.mount(\"/content/drive\", force_remount=True).\n"
          ]
        }
      ]
    },
    {
      "cell_type": "markdown",
      "metadata": {
        "id": "OqpYSO9X_056"
      },
      "source": [
        "# **Import libraries.**"
      ]
    },
    {
      "cell_type": "code",
      "metadata": {
        "id": "88fVKPtEwtqk"
      },
      "source": [
        "import fastbook\n",
        "from fastbook import *\n",
        "import cv2\n",
        "import numpy as np\n",
        "from matplotlib import pyplot as plt\n",
        "import matplotlib.patches as mpatches\n",
        "from google.colab.patches import cv2_imshow\n",
        "from scipy import ndimage\n",
        "from skimage import measure, color, io, img_as_ubyte, img_as_float\n",
        "from skimage.restoration import denoise_nl_means, estimate_sigma\n",
        "from skimage.segmentation import clear_border, join_segmentations\n",
        "import pandas as pd\n",
        "import czifile\n",
        "import imagecodecs\n",
        "#import tifffile"
      ],
      "execution_count": 3,
      "outputs": []
    },
    {
      "cell_type": "markdown",
      "metadata": {
        "id": "lNtNiCnrNZgP"
      },
      "source": [
        "#**Check the settings.**"
      ]
    },
    {
      "cell_type": "code",
      "metadata": {
        "colab": {
          "base_uri": "https://localhost:8080/"
        },
        "id": "X8u8g87r3hLT",
        "outputId": "4a912adc-b026-4818-88d5-cdf9313e0305"
      },
      "source": [
        "print(os.getcwd()) # current directory"
      ],
      "execution_count": 4,
      "outputs": [
        {
          "output_type": "stream",
          "name": "stdout",
          "text": [
            "/content\n"
          ]
        }
      ]
    },
    {
      "cell_type": "code",
      "metadata": {
        "id": "G2NvWwYNNZ3n"
      },
      "source": [
        "#Image under study\n",
        "path = Path('/content/drive/MyDrive/Cells_counter/Init_Images')\n",
        "#path = Path('K:\\Cells_counter\\Init_Images')\n",
        "#Visualisation\n",
        "img_size = [] # empty [] or rectangle coordinates, e.g. [0,0,1024,1024]\n",
        "fig_size = (30,30) # figures size\n",
        "img_map  = 'Blues' # image map. For example, 'gray','hot','jet','Blues' et al. If you want to know more, please type the following code: help(plt.imshow)\n",
        "img_map1 = 'jet'\n",
        "\n",
        "font = cv2.FONT_HERSHEY_SIMPLEX\n",
        "fontScale = 1\n",
        "fontColor = (255,255,255)\n",
        "lineType  = 2"
      ],
      "execution_count": 5,
      "outputs": []
    },
    {
      "cell_type": "markdown",
      "metadata": {
        "id": "1AM_LXO0yt4q"
      },
      "source": [
        "#**Download \"czi\" images and create slices. Then calculate mean and standard deviation values.**"
      ]
    },
    {
      "cell_type": "markdown",
      "metadata": {
        "id": "ZqH5-vU2Awb4"
      },
      "source": [
        "Path content."
      ]
    },
    {
      "cell_type": "code",
      "metadata": {
        "id": "XyeOGh7N5JVX",
        "colab": {
          "base_uri": "https://localhost:8080/"
        },
        "outputId": "4eaeaac7-4f38-4a6a-9bb7-7360ab89f0c7"
      },
      "source": [
        "path_list = path.ls()\n",
        "print(len(path_list))\n",
        "print(path_list)"
      ],
      "execution_count": 6,
      "outputs": [
        {
          "output_type": "stream",
          "name": "stdout",
          "text": [
            "97\n",
            "[Path('/content/drive/MyDrive/Cells_counter/Init_Images/1267_3 (1).czi'), Path('/content/drive/MyDrive/Cells_counter/Init_Images/B16_1122_1.czi'), Path('/content/drive/MyDrive/Cells_counter/Init_Images/1267_3_3.czi'), Path('/content/drive/MyDrive/Cells_counter/Init_Images/1267_3_2 (1).czi'), Path('/content/drive/MyDrive/Cells_counter/Init_Images/B16_1122_2.czi'), Path('/content/drive/MyDrive/Cells_counter/Init_Images/B16_1122_1_3.czi'), Path('/content/drive/MyDrive/Cells_counter/Init_Images/B16_1122_1_2.czi'), Path('/content/drive/MyDrive/Cells_counter/Init_Images/B16_1122_3.czi'), Path('/content/drive/MyDrive/Cells_counter/Init_Images/B16_1122_2_3.czi'), Path('/content/drive/MyDrive/Cells_counter/Init_Images/B16_1122_2_2.czi'), Path('/content/drive/MyDrive/Cells_counter/Init_Images/B16_1267_1_3.czi'), Path('/content/drive/MyDrive/Cells_counter/Init_Images/B16_1267_1_2.czi'), Path('/content/drive/MyDrive/Cells_counter/Init_Images/B16_1267_1.czi'), Path('/content/drive/MyDrive/Cells_counter/Init_Images/B16_1122_4.czi'), Path('/content/drive/MyDrive/Cells_counter/Init_Images/B16_1122_3_3.czi'), Path('/content/drive/MyDrive/Cells_counter/Init_Images/B16_1122_3_2.czi'), Path('/content/drive/MyDrive/Cells_counter/Init_Images/B16_1267_2_2.czi'), Path('/content/drive/MyDrive/Cells_counter/Init_Images/B16_1267_2.czi'), Path('/content/drive/MyDrive/Cells_counter/Init_Images/B16_1267_1_4.czi'), Path('/content/drive/MyDrive/Cells_counter/Init_Images/B16_1267_4_2.czi'), Path('/content/drive/MyDrive/Cells_counter/Init_Images/B16_1267_4.czi'), Path('/content/drive/MyDrive/Cells_counter/Init_Images/B16_1267_2_3.czi'), Path('/content/drive/MyDrive/Cells_counter/Init_Images/B16_1267_5.czi'), Path('/content/drive/MyDrive/Cells_counter/Init_Images/B16_1267_4_4.czi'), Path('/content/drive/MyDrive/Cells_counter/Init_Images/B16_1267_4_3.czi'), Path('/content/drive/MyDrive/Cells_counter/Init_Images/B16_1267_5_3.czi'), Path('/content/drive/MyDrive/Cells_counter/Init_Images/B16_1267_5_2.czi'), Path('/content/drive/MyDrive/Cells_counter/Init_Images/B16_control 1 (1).czi'), Path('/content/drive/MyDrive/Cells_counter/Init_Images/B16_1267_5_5.czi'), Path('/content/drive/MyDrive/Cells_counter/Init_Images/B16_1267_5_4.czi'), Path('/content/drive/MyDrive/Cells_counter/Init_Images/B16_control 2 (1).czi'), Path('/content/drive/MyDrive/Cells_counter/Init_Images/B16_control 1_3.czi'), Path('/content/drive/MyDrive/Cells_counter/Init_Images/B16_control 1_2.czi'), Path('/content/drive/MyDrive/Cells_counter/Init_Images/B16_control 3 (1).czi'), Path('/content/drive/MyDrive/Cells_counter/Init_Images/B16_control 2_3 (1).czi'), Path('/content/drive/MyDrive/Cells_counter/Init_Images/B16_control 2_2 (1).czi'), Path('/content/drive/MyDrive/Cells_counter/Init_Images/1122_2.czi'), Path('/content/drive/MyDrive/Cells_counter/Init_Images/1122_1.czi'), Path('/content/drive/MyDrive/Cells_counter/Init_Images/B16_control 4_3.czi'), Path('/content/drive/MyDrive/Cells_counter/Init_Images/B16_control 4_2.czi'), Path('/content/drive/MyDrive/Cells_counter/Init_Images/B16_control 4.czi'), Path('/content/drive/MyDrive/Cells_counter/Init_Images/B16_control 3_2 (1).czi'), Path('/content/drive/MyDrive/Cells_counter/Init_Images/1267_2.czi'), Path('/content/drive/MyDrive/Cells_counter/Init_Images/1267_1_2.czi'), Path('/content/drive/MyDrive/Cells_counter/Init_Images/1267_1.czi'), Path('/content/drive/MyDrive/Cells_counter/Init_Images/1122_4.czi'), Path('/content/drive/MyDrive/Cells_counter/Init_Images/1122_3.czi'), Path('/content/drive/MyDrive/Cells_counter/Init_Images/1267_3_2.czi'), Path('/content/drive/MyDrive/Cells_counter/Init_Images/1267_3.czi'), Path('/content/drive/MyDrive/Cells_counter/Init_Images/1267_2_2.czi'), Path('/content/drive/MyDrive/Cells_counter/Init_Images/B16_control 2_2.czi'), Path('/content/drive/MyDrive/Cells_counter/Init_Images/B16_control 2.czi'), Path('/content/drive/MyDrive/Cells_counter/Init_Images/B16_control 1.czi'), Path('/content/drive/MyDrive/Cells_counter/Init_Images/B16_control 3_2.czi'), Path('/content/drive/MyDrive/Cells_counter/Init_Images/B16_control 3.czi'), Path('/content/drive/MyDrive/Cells_counter/Init_Images/B16_control 2_3.czi'), Path('/content/drive/MyDrive/Cells_counter/Init_Images/B16_1122_1.3.czi'), Path('/content/drive/MyDrive/Cells_counter/Init_Images/B16_1122_1.2.czi'), Path('/content/drive/MyDrive/Cells_counter/Init_Images/B16_1122_1.1.czi'), Path('/content/drive/MyDrive/Cells_counter/Init_Images/B16_1122_2.1.czi'), Path('/content/drive/MyDrive/Cells_counter/Init_Images/B16_1122_1.5.czi'), Path('/content/drive/MyDrive/Cells_counter/Init_Images/B16_1122_1.4.czi'), Path('/content/drive/MyDrive/Cells_counter/Init_Images/B16_1122_2.4.czi'), Path('/content/drive/MyDrive/Cells_counter/Init_Images/B16_1122_2.3.czi'), Path('/content/drive/MyDrive/Cells_counter/Init_Images/B16_1122_2.2.czi'), Path('/content/drive/MyDrive/Cells_counter/Init_Images/B16_1122_3.2.czi'), Path('/content/drive/MyDrive/Cells_counter/Init_Images/B16_1122_3.1.czi'), Path('/content/drive/MyDrive/Cells_counter/Init_Images/B16_1122_2.5.czi'), Path('/content/drive/MyDrive/Cells_counter/Init_Images/B16_1267_1.2.czi'), Path('/content/drive/MyDrive/Cells_counter/Init_Images/B16_1267_1.1.czi'), Path('/content/drive/MyDrive/Cells_counter/Init_Images/B16_1122_3.3.czi'), Path('/content/drive/MyDrive/Cells_counter/Init_Images/B16_1267_1.4.czi'), Path('/content/drive/MyDrive/Cells_counter/Init_Images/B16_1267_1.3.czi'), Path('/content/drive/MyDrive/Cells_counter/Init_Images/B16_1267_2.1.czi'), Path('/content/drive/MyDrive/Cells_counter/Init_Images/B16_1267_1.6.czi'), Path('/content/drive/MyDrive/Cells_counter/Init_Images/B16_1267_1.5.czi'), Path('/content/drive/MyDrive/Cells_counter/Init_Images/B16_1267_2.4.czi'), Path('/content/drive/MyDrive/Cells_counter/Init_Images/B16_1267_2.3.czi'), Path('/content/drive/MyDrive/Cells_counter/Init_Images/B16_1267_2.2.czi'), Path('/content/drive/MyDrive/Cells_counter/Init_Images/B16_1267_3.3.czi'), Path('/content/drive/MyDrive/Cells_counter/Init_Images/B16_1267_3.2.czi'), Path('/content/drive/MyDrive/Cells_counter/Init_Images/B16_1267_3.1.czi'), Path('/content/drive/MyDrive/Cells_counter/Init_Images/B16_1267_4.1.czi'), Path('/content/drive/MyDrive/Cells_counter/Init_Images/B16_1267_3.5.czi'), Path('/content/drive/MyDrive/Cells_counter/Init_Images/B16_1267_3.4.czi'), Path('/content/drive/MyDrive/Cells_counter/Init_Images/B16_control 1.2.czi'), Path('/content/drive/MyDrive/Cells_counter/Init_Images/B16_control 1.1.czi'), Path('/content/drive/MyDrive/Cells_counter/Init_Images/B16_1267_4.2.czi'), Path('/content/drive/MyDrive/Cells_counter/Init_Images/B16_control 1.5.czi'), Path('/content/drive/MyDrive/Cells_counter/Init_Images/B16_control 1.4.czi'), Path('/content/drive/MyDrive/Cells_counter/Init_Images/B16_control 1.3.czi'), Path('/content/drive/MyDrive/Cells_counter/Init_Images/B16_control 2.3.czi'), Path('/content/drive/MyDrive/Cells_counter/Init_Images/B16_control 2.2.czi'), Path('/content/drive/MyDrive/Cells_counter/Init_Images/B16_control 2.1.czi'), Path('/content/drive/MyDrive/Cells_counter/Init_Images/B16_control 3.3.czi'), Path('/content/drive/MyDrive/Cells_counter/Init_Images/B16_control 3.2.czi'), Path('/content/drive/MyDrive/Cells_counter/Init_Images/B16_control 3.1.czi')]\n"
          ]
        }
      ]
    },
    {
      "cell_type": "markdown",
      "metadata": {
        "id": "uMtAqUVvA3oA"
      },
      "source": [
        "Read an example of an image in the dataset."
      ]
    },
    {
      "cell_type": "code",
      "metadata": {
        "id": "ufPc3NRHCju3",
        "colab": {
          "base_uri": "https://localhost:8080/"
        },
        "outputId": "a630acff-5099-4ada-d627-c23a9e885772"
      },
      "source": [
        "img = czifile.imread(path_list[-1])\n",
        "img.shape"
      ],
      "execution_count": 7,
      "outputs": [
        {
          "output_type": "execute_result",
          "data": {
            "text/plain": [
              "(1, 1, 1, 2, 1, 3277, 3277, 1)"
            ]
          },
          "metadata": {},
          "execution_count": 7
        }
      ]
    },
    {
      "cell_type": "code",
      "metadata": {
        "id": "3NE0_Umm6bct",
        "colab": {
          "base_uri": "https://localhost:8080/"
        },
        "outputId": "379d8d75-db1f-4181-de24-ea0f4c0f3179"
      },
      "source": [
        "img = czifile.imread(path_list[1])\n",
        "img_size = [0,0,img.shape[5],img.shape[6]] # full size\n",
        "img_slice = img[0,0,0,:,0,img_size[0]:img_size[2],img_size[1]:img_size[3],0]# image in a form of 3D matrix\n",
        "\n",
        "img0 = img_slice[0,:,:] # 0 channel which is fluo4-T1 (highlights the apoptosed cells)\n",
        "img1 = img_slice[1,:,:] # 1 channel which is H3342-T2 (highlights all the cells)\n",
        "img2 = np.uint16(np.zeros(img0.shape))# 2 empty channel\n",
        "channels = [img0,img1,img2] # channels of the image\n",
        "\n",
        "nc = len(channels)\n",
        "n = [i for i in range(nc)] # auxiliary variable\n",
        "\n",
        "print('channel shape: ',channels[2].shape, channels[2].dtype, type(channels[2]))"
      ],
      "execution_count": 8,
      "outputs": [
        {
          "output_type": "stream",
          "name": "stdout",
          "text": [
            "channel shape:  (3277, 3277) uint16 <class 'numpy.ndarray'>\n"
          ]
        }
      ]
    },
    {
      "cell_type": "code",
      "metadata": {
        "colab": {
          "base_uri": "https://localhost:8080/"
        },
        "id": "TcnEb0Maa3fc",
        "outputId": "062b9fe4-12b7-4ed6-f5c3-e13ff9e69f4a"
      },
      "source": [
        "print(np.mean(img0), np.max(img0), np.min(img0), np.std(img0))\n",
        "print(np.mean(img1), np.max(img1), np.min(img1), np.std(img1))"
      ],
      "execution_count": 9,
      "outputs": [
        {
          "output_type": "stream",
          "name": "stdout",
          "text": [
            "562.9295504151376 65535 0 2343.234977423722\n",
            "738.0651087293478 65535 100 3489.4896452062776\n"
          ]
        }
      ]
    },
    {
      "cell_type": "markdown",
      "metadata": {
        "id": "HW7C6W5pBjQ8"
      },
      "source": [
        "Read all images in the path and calculate mean and std values."
      ]
    },
    {
      "cell_type": "code",
      "metadata": {
        "id": "KWkfrlo2VYYg"
      },
      "source": [
        "#img_tensors = [tensor(czifile.imread(path_list[o])) for o in path_list]"
      ],
      "execution_count": 10,
      "outputs": []
    },
    {
      "cell_type": "code",
      "metadata": {
        "id": "DaPC6SBeD0pN",
        "colab": {
          "base_uri": "https://localhost:8080/"
        },
        "outputId": "aba2e6fc-a214-4b74-b98a-4d416a082cf5"
      },
      "source": [
        "mean_values = [0]*nc\n",
        "std_values = [0]*nc\n",
        "imgf = [0]*nc\n",
        "\n",
        "for i in range(len(path.ls())): #loop through the images path\n",
        "  img = czifile.imread(path_list[i]) # read czi image file\n",
        "  img_size = [0,0,img.shape[5],img.shape[6]] # full size\n",
        "  img_slice = img[0,0,0,:,0,img_size[0]:img_size[2],img_size[1]:img_size[3],0]# image in a form of 3D matrix\n",
        "  imgf[0] = img_slice[0,:,:] # 0 channel which is fluo4-T1 (highlights the apoptosed cells)\n",
        "  imgf[1] = img_slice[1,:,:] # 1 channel which is H3342-T2 (highlights all the cells)\n",
        "  imgf[2] = np.uint16(np.zeros(imgf[0].shape))# 2 empty channel\n",
        "  \n",
        "  for j in n:\n",
        "    if i < 1:\n",
        "      channels[j] = np.reshape(imgf[j],(1,-1)) # channels of the image\n",
        "    else:\n",
        "      #print(channels[j].shape, imgf[j].shape)\n",
        "      channels[j] = np.concatenate([channels[j],np.reshape(imgf[j],(1,-1))])\n",
        "  print(channels[j].shape)    "
      ],
      "execution_count": 11,
      "outputs": [
        {
          "output_type": "stream",
          "name": "stdout",
          "text": [
            "(1, 10738729)\n",
            "(2, 10738729)\n",
            "(3, 10738729)\n",
            "(4, 10738729)\n",
            "(5, 10738729)\n",
            "(6, 10738729)\n",
            "(7, 10738729)\n",
            "(8, 10738729)\n",
            "(9, 10738729)\n",
            "(10, 10738729)\n",
            "(11, 10738729)\n",
            "(12, 10738729)\n",
            "(13, 10738729)\n",
            "(14, 10738729)\n",
            "(15, 10738729)\n",
            "(16, 10738729)\n",
            "(17, 10738729)\n",
            "(18, 10738729)\n",
            "(19, 10738729)\n",
            "(20, 10738729)\n",
            "(21, 10738729)\n",
            "(22, 10738729)\n",
            "(23, 10738729)\n",
            "(24, 10738729)\n",
            "(25, 10738729)\n",
            "(26, 10738729)\n",
            "(27, 10738729)\n",
            "(28, 10738729)\n",
            "(29, 10738729)\n",
            "(30, 10738729)\n",
            "(31, 10738729)\n",
            "(32, 10738729)\n",
            "(33, 10738729)\n",
            "(34, 10738729)\n",
            "(35, 10738729)\n",
            "(36, 10738729)\n",
            "(37, 10738729)\n",
            "(38, 10738729)\n",
            "(39, 10738729)\n",
            "(40, 10738729)\n",
            "(41, 10738729)\n",
            "(42, 10738729)\n",
            "(43, 10738729)\n",
            "(44, 10738729)\n",
            "(45, 10738729)\n",
            "(46, 10738729)\n",
            "(47, 10738729)\n",
            "(48, 10738729)\n",
            "(49, 10738729)\n",
            "(50, 10738729)\n",
            "(51, 10738729)\n",
            "(52, 10738729)\n",
            "(53, 10738729)\n",
            "(54, 10738729)\n",
            "(55, 10738729)\n",
            "(56, 10738729)\n",
            "(57, 10738729)\n",
            "(58, 10738729)\n",
            "(59, 10738729)\n",
            "(60, 10738729)\n",
            "(61, 10738729)\n",
            "(62, 10738729)\n",
            "(63, 10738729)\n",
            "(64, 10738729)\n",
            "(65, 10738729)\n",
            "(66, 10738729)\n",
            "(67, 10738729)\n",
            "(68, 10738729)\n",
            "(69, 10738729)\n",
            "(70, 10738729)\n",
            "(71, 10738729)\n",
            "(72, 10738729)\n",
            "(73, 10738729)\n",
            "(74, 10738729)\n",
            "(75, 10738729)\n",
            "(76, 10738729)\n",
            "(77, 10738729)\n",
            "(78, 10738729)\n",
            "(79, 10738729)\n",
            "(80, 10738729)\n",
            "(81, 10738729)\n",
            "(82, 10738729)\n",
            "(83, 10738729)\n",
            "(84, 10738729)\n",
            "(85, 10738729)\n",
            "(86, 10738729)\n",
            "(87, 10738729)\n",
            "(88, 10738729)\n",
            "(89, 10738729)\n",
            "(90, 10738729)\n",
            "(91, 10738729)\n",
            "(92, 10738729)\n",
            "(93, 10738729)\n",
            "(94, 10738729)\n",
            "(95, 10738729)\n",
            "(96, 10738729)\n",
            "(97, 10738729)\n"
          ]
        }
      ]
    },
    {
      "cell_type": "code",
      "metadata": {
        "id": "EYajUf01mnxv"
      },
      "source": [
        "for j in n:\n",
        "  mean_values[j] = np.mean(np.reshape(channels[j],(1,-1)))#/np #mean value\n",
        "  std_values[j]  =  np.std(np.reshape(channels[j],(1,-1)))#/np standard deviation\n",
        "\n",
        "print (mean_values, std_values)"
      ],
      "execution_count": null,
      "outputs": []
    }
  ]
}