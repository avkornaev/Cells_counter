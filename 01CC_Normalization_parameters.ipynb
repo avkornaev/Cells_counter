{
  "nbformat": 4,
  "nbformat_minor": 0,
  "metadata": {
    "colab": {
      "name": "01CC_Normalization_parameters",
      "provenance": [],
      "collapsed_sections": [],
      "mount_file_id": "1lJyllNwg09V3MKQvS0BcjjC_HxTgZz6R",
      "authorship_tag": "ABX9TyNO8/OyMnQ5D939al5hKhHP",
      "include_colab_link": true
    },
    "kernelspec": {
      "display_name": "Python 3",
      "name": "python3"
    },
    "language_info": {
      "name": "python"
    }
  },
  "cells": [
    {
      "cell_type": "markdown",
      "metadata": {
        "id": "view-in-github",
        "colab_type": "text"
      },
      "source": [
        "<a href=\"https://colab.research.google.com/github/avkornaev/Cells_counter/blob/main/01CC_Normalization_parameters.ipynb\" target=\"_parent\"><img src=\"https://colab.research.google.com/assets/colab-badge.svg\" alt=\"Open In Colab\"/></a>"
      ]
    },
    {
      "cell_type": "markdown",
      "metadata": {
        "id": "PQY2xOF_dr6c"
      },
      "source": [
        "Summary.\n",
        "\n",
        "The cells counter very first step is calculation of the normalization parameters."
      ]
    },
    {
      "cell_type": "markdown",
      "metadata": {
        "id": "QvjlGUA_90C2"
      },
      "source": [
        "#**Install libraries**.\n",
        "\n"
      ]
    },
    {
      "cell_type": "code",
      "metadata": {
        "id": "JOSgxVVtwhBQ",
        "colab": {
          "base_uri": "https://localhost:8080/"
        },
        "outputId": "7b814c72-f826-421b-8403-3ee5123bc05c"
      },
      "source": [
        "!pip install -Uqq fastbook\n",
        "!pip install czifile\n",
        "!pip install tifffile\n",
        "!pip install imagecodecs"
      ],
      "execution_count": 1,
      "outputs": [
        {
          "output_type": "stream",
          "name": "stdout",
          "text": [
            "\u001b[K     |████████████████████████████████| 720 kB 6.6 MB/s \n",
            "\u001b[K     |████████████████████████████████| 46 kB 975 kB/s \n",
            "\u001b[K     |████████████████████████████████| 1.2 MB 44.7 MB/s \n",
            "\u001b[K     |████████████████████████████████| 189 kB 67.6 MB/s \n",
            "\u001b[K     |████████████████████████████████| 56 kB 4.7 MB/s \n",
            "\u001b[K     |████████████████████████████████| 51 kB 346 kB/s \n",
            "\u001b[?25hCollecting czifile\n",
            "  Downloading czifile-2019.7.2-py2.py3-none-any.whl (18 kB)\n",
            "Requirement already satisfied: tifffile>=2019.7.2 in /usr/local/lib/python3.7/dist-packages (from czifile) (2021.10.12)\n",
            "Requirement already satisfied: numpy>=1.11.3 in /usr/local/lib/python3.7/dist-packages (from czifile) (1.19.5)\n",
            "Installing collected packages: czifile\n",
            "Successfully installed czifile-2019.7.2\n",
            "Requirement already satisfied: tifffile in /usr/local/lib/python3.7/dist-packages (2021.10.12)\n",
            "Requirement already satisfied: numpy>=1.15.1 in /usr/local/lib/python3.7/dist-packages (from tifffile) (1.19.5)\n",
            "Collecting imagecodecs\n",
            "  Downloading imagecodecs-2021.8.26-cp37-cp37m-manylinux_2_17_x86_64.manylinux2014_x86_64.whl (29.6 MB)\n",
            "\u001b[K     |████████████████████████████████| 29.6 MB 60 kB/s \n",
            "\u001b[?25hRequirement already satisfied: numpy>=1.15.1 in /usr/local/lib/python3.7/dist-packages (from imagecodecs) (1.19.5)\n",
            "Installing collected packages: imagecodecs\n",
            "Successfully installed imagecodecs-2021.8.26\n"
          ]
        }
      ]
    },
    {
      "cell_type": "markdown",
      "metadata": {
        "id": "x-4KWkun_4cg"
      },
      "source": [
        "#**Connect to Google disk.**"
      ]
    },
    {
      "cell_type": "code",
      "metadata": {
        "id": "nWfh1iaz__LW",
        "colab": {
          "base_uri": "https://localhost:8080/"
        },
        "outputId": "a30dd574-ac40-43cd-e682-54941cb3cf3a"
      },
      "source": [
        "from google.colab import drive\n",
        "drive.mount('/content/drive')"
      ],
      "execution_count": 2,
      "outputs": [
        {
          "output_type": "stream",
          "name": "stdout",
          "text": [
            "Drive already mounted at /content/drive; to attempt to forcibly remount, call drive.mount(\"/content/drive\", force_remount=True).\n"
          ]
        }
      ]
    },
    {
      "cell_type": "markdown",
      "metadata": {
        "id": "OqpYSO9X_056"
      },
      "source": [
        "# **Import libraries.**"
      ]
    },
    {
      "cell_type": "code",
      "metadata": {
        "id": "88fVKPtEwtqk"
      },
      "source": [
        "import fastbook\n",
        "from fastbook import *\n",
        "import cv2\n",
        "import numpy as np\n",
        "from matplotlib import pyplot as plt\n",
        "import matplotlib.patches as mpatches\n",
        "from google.colab.patches import cv2_imshow\n",
        "from scipy import ndimage\n",
        "from skimage import measure, color, io, img_as_ubyte, img_as_float\n",
        "from skimage.restoration import denoise_nl_means, estimate_sigma\n",
        "from skimage.segmentation import clear_border, join_segmentations\n",
        "import pandas as pd\n",
        "import czifile\n",
        "import imagecodecs\n",
        "#import tifffile"
      ],
      "execution_count": 3,
      "outputs": []
    },
    {
      "cell_type": "markdown",
      "metadata": {
        "id": "lNtNiCnrNZgP"
      },
      "source": [
        "#**Check the settings.**"
      ]
    },
    {
      "cell_type": "code",
      "metadata": {
        "colab": {
          "base_uri": "https://localhost:8080/"
        },
        "id": "X8u8g87r3hLT",
        "outputId": "5ef5ad1c-87ec-4938-9a3c-bf42f790dd6e"
      },
      "source": [
        "print(os.getcwd()) # current directory"
      ],
      "execution_count": 4,
      "outputs": [
        {
          "output_type": "stream",
          "name": "stdout",
          "text": [
            "/content\n"
          ]
        }
      ]
    },
    {
      "cell_type": "code",
      "metadata": {
        "id": "G2NvWwYNNZ3n"
      },
      "source": [
        "#Image under study\n",
        "#path = Path('/content/drive/MyDrive/Cells_counter/Segmentation_Train_and_Validation_dataset/Images')\n",
        "path = Path('K:\\Cells_counter\\Init_Images')\n",
        "#Visualisation\n",
        "img_size = [] # empty [] or rectangle coordinates, e.g. [0,0,1024,1024]\n",
        "fig_size = (30,30) # figures size\n",
        "img_map  = 'Blues' # image map. For example, 'gray','hot','jet','Blues' et al. If you want to know more, please type the following code: help(plt.imshow)\n",
        "img_map1 = 'jet'\n",
        "\n",
        "font = cv2.FONT_HERSHEY_SIMPLEX\n",
        "fontScale = 1\n",
        "fontColor = (255,255,255)\n",
        "lineType  = 2"
      ],
      "execution_count": 5,
      "outputs": []
    },
    {
      "cell_type": "markdown",
      "metadata": {
        "id": "1AM_LXO0yt4q"
      },
      "source": [
        "#**Download \"czi\" images and create slices. Then calculate mean and standard deviation values.**"
      ]
    },
    {
      "cell_type": "markdown",
      "metadata": {
        "id": "ZqH5-vU2Awb4"
      },
      "source": [
        "Path content."
      ]
    },
    {
      "cell_type": "code",
      "metadata": {
        "id": "XyeOGh7N5JVX"
      },
      "source": [
        "path_list = path.ls()"
      ],
      "execution_count": 7,
      "outputs": []
    },
    {
      "cell_type": "markdown",
      "metadata": {
        "id": "uMtAqUVvA3oA"
      },
      "source": [
        "Read an example of an image in the dataset."
      ]
    },
    {
      "cell_type": "code",
      "metadata": {
        "id": "ufPc3NRHCju3",
        "colab": {
          "base_uri": "https://localhost:8080/"
        },
        "outputId": "d5dde957-c64a-40a7-b4ad-01d9c026d7ac"
      },
      "source": [
        "img = czifile.imread(path_list[-1])\n",
        "img.shape"
      ],
      "execution_count": 39,
      "outputs": [
        {
          "output_type": "execute_result",
          "data": {
            "text/plain": [
              "(1, 1, 1, 2, 1, 3277, 3277, 1)"
            ]
          },
          "metadata": {},
          "execution_count": 39
        }
      ]
    },
    {
      "cell_type": "code",
      "metadata": {
        "id": "3NE0_Umm6bct",
        "colab": {
          "base_uri": "https://localhost:8080/"
        },
        "outputId": "fccb0561-701e-469d-86c5-3025c908a16c"
      },
      "source": [
        "img = czifile.imread(path_list[1])\n",
        "img_size = [0,0,img.shape[5],img.shape[6]] # full size\n",
        "img_slice = img[0,0,0,:,0,img_size[0]:img_size[2],img_size[1]:img_size[3],0]# image in a form of 3D matrix\n",
        "\n",
        "img0 = img_slice[0,:,:] # 0 channel which is fluo4-T1 (highlights the apoptosed cells)\n",
        "img1 = img_slice[1,:,:] # 1 channel which is H3342-T2 (highlights all the cells)\n",
        "img2 = np.uint16(np.zeros(img0.shape))# 2 empty channel\n",
        "channels = [img0,img1,img2] # channels of the image\n",
        "\n",
        "nc = len(channels)\n",
        "n = [i for i in range(nc)] # auxiliary variable\n",
        "\n",
        "print('channel shape: ',channels[2].shape, channels[2].dtype, type(channels[2]))"
      ],
      "execution_count": 40,
      "outputs": [
        {
          "output_type": "stream",
          "name": "stdout",
          "text": [
            "channel shape:  (3277, 3277) uint16 <class 'numpy.ndarray'>\n"
          ]
        }
      ]
    },
    {
      "cell_type": "code",
      "metadata": {
        "colab": {
          "base_uri": "https://localhost:8080/"
        },
        "id": "TcnEb0Maa3fc",
        "outputId": "61d85bc4-00fe-43ae-c84f-1130ae76fd81"
      },
      "source": [
        "print(np.mean(img0), np.max(img0), np.min(img0), np.std(img0))\n",
        "print(np.mean(img1), np.max(img1), np.min(img1), np.std(img1))"
      ],
      "execution_count": 41,
      "outputs": [
        {
          "output_type": "stream",
          "name": "stdout",
          "text": [
            "993.4179357724736 65535 0 5065.741187444674\n",
            "932.4809735863528 65535 87 5626.293935061123\n"
          ]
        }
      ]
    },
    {
      "cell_type": "markdown",
      "metadata": {
        "id": "HW7C6W5pBjQ8"
      },
      "source": [
        "Read all images in the path and calculate mean and std values."
      ]
    },
    {
      "cell_type": "code",
      "metadata": {
        "id": "KWkfrlo2VYYg"
      },
      "source": [
        "#img_tensors = [tensor(czifile.imread(path_list[o])) for o in path_list]"
      ],
      "execution_count": 12,
      "outputs": []
    },
    {
      "cell_type": "code",
      "metadata": {
        "id": "DaPC6SBeD0pN",
        "colab": {
          "base_uri": "https://localhost:8080/"
        },
        "outputId": "882966a8-9e03-4c32-bbdd-14848f59bc40"
      },
      "source": [
        "mean_values = [0]*nc\n",
        "std_values = [0]*nc\n",
        "imgf = [0]*nc\n",
        "\n",
        "for i in range(len(path.ls())): #loop through the images path\n",
        "  img = czifile.imread(path_list[i]) # read czi image file\n",
        "  img_size = [0,0,img.shape[5],img.shape[6]] # full size\n",
        "  img_slice = img[0,0,0,:,0,img_size[0]:img_size[2],img_size[1]:img_size[3],0]# image in a form of 3D matrix\n",
        "  imgf[0] = img_slice[0,:,:] # 0 channel which is fluo4-T1 (highlights the apoptosed cells)\n",
        "  imgf[1] = img_slice[1,:,:] # 1 channel which is H3342-T2 (highlights all the cells)\n",
        "  imgf[2] = np.uint16(np.zeros(imgf[0].shape))# 2 empty channel\n",
        "  \n",
        "  for j in n:\n",
        "    if i < 1:\n",
        "      channels[j] = np.reshape(imgf[j],(1,-1)) # channels of the image\n",
        "    else:\n",
        "      #print(channels[j].shape, imgf[j].shape)\n",
        "      channels[j] = np.concatenate([channels[j],np.reshape(imgf[j],(1,-1))])\n",
        "  print(channels[j].shape)    "
      ],
      "execution_count": 17,
      "outputs": [
        {
          "output_type": "stream",
          "name": "stdout",
          "text": [
            "(1, 10738729)\n",
            "(2, 10738729)\n",
            "(3, 10738729)\n",
            "(4, 10738729)\n",
            "(5, 10738729)\n"
          ]
        }
      ]
    },
    {
      "cell_type": "code",
      "metadata": {
        "id": "oZncN6qXpaic"
      },
      "source": [
        "aaa =  np.reshape(channels[0],(-1,1))\n",
        "print(aaa.shape,aaa.dtype)\n",
        "std_valuesa  =  np.std(np.reshape(channels[0],(1,-1)))\n"
      ],
      "execution_count": null,
      "outputs": []
    },
    {
      "cell_type": "code",
      "metadata": {
        "colab": {
          "base_uri": "https://localhost:8080/"
        },
        "id": "EYajUf01mnxv",
        "outputId": "78565792-be84-4e60-ff77-3544c7dec8c9"
      },
      "source": [
        "for j in n:\n",
        "  mean_values[j] = np.mean(np.reshape(channels[j],(1,-1)))#/np #mean value\n",
        "  std_values[j]  =  np.std(np.reshape(channels[j],(1,-1)))#/np standard deviation\n",
        "\n",
        "print (mean_values, std_values)"
      ],
      "execution_count": 29,
      "outputs": [
        {
          "output_type": "stream",
          "name": "stdout",
          "text": [
            "[375.3508845413643, 774.9535605005025, 0.0] [2617.964987351893, 4097.3656955349425, 0.0]\n"
          ]
        }
      ]
    }
  ]
}