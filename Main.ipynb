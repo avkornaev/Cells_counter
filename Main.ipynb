{
  "nbformat": 4,
  "nbformat_minor": 0,
  "metadata": {
    "colab": {
      "name": "Main.ipynb",
      "provenance": [],
      "collapsed_sections": [],
      "authorship_tag": "ABX9TyM6hnNEMJKR3JDQaHt1yCYe",
      "include_colab_link": true
    },
    "kernelspec": {
      "name": "python3",
      "display_name": "Python 3"
    },
    "language_info": {
      "name": "python"
    }
  },
  "cells": [
    {
      "cell_type": "markdown",
      "metadata": {
        "id": "view-in-github",
        "colab_type": "text"
      },
      "source": [
        "<a href=\"https://colab.research.google.com/github/avkornaev/Cells_counter/blob/main/Main.ipynb\" target=\"_parent\"><img src=\"https://colab.research.google.com/assets/colab-badge.svg\" alt=\"Open In Colab\"/></a>"
      ]
    },
    {
      "cell_type": "code",
      "execution_count": 1,
      "metadata": {
        "colab": {
          "base_uri": "https://localhost:8080/"
        },
        "id": "jPSaJ-z614Tm",
        "outputId": "02a0355f-b0ae-42e1-db7b-76bbc00b99f1"
      },
      "outputs": [
        {
          "output_type": "stream",
          "name": "stdout",
          "text": [
            "\u001b[K     |████████████████████████████████| 720 kB 5.2 MB/s \n",
            "\u001b[K     |████████████████████████████████| 189 kB 67.3 MB/s \n",
            "\u001b[K     |████████████████████████████████| 1.2 MB 54.9 MB/s \n",
            "\u001b[K     |████████████████████████████████| 46 kB 1.7 MB/s \n",
            "\u001b[K     |████████████████████████████████| 56 kB 5.3 MB/s \n",
            "\u001b[K     |████████████████████████████████| 51 kB 331 kB/s \n",
            "\u001b[?25hMounted at /content/gdrive\n"
          ]
        }
      ],
      "source": [
        "!pip install -Uqq fastbook\n",
        "import fastbook\n",
        "fastbook.setup_book()"
      ]
    },
    {
      "cell_type": "code",
      "source": [
        "from fastai.vision.all import *\n",
        "import cv2\n",
        "from google.colab.patches import cv2_imshow\n"
      ],
      "metadata": {
        "id": "Go3JwW4hICsK"
      },
      "execution_count": 2,
      "outputs": []
    },
    {
      "cell_type": "markdown",
      "source": [
        "Initialization"
      ],
      "metadata": {
        "id": "nzMpruhsYD38"
      }
    },
    {
      "cell_type": "code",
      "source": [
        "scaleFactor = 1e+4 # 1e+4 pixels per 1m when resolution is 128x128 "
      ],
      "metadata": {
        "id": "y8Q_jxpUYIEm"
      },
      "execution_count": 3,
      "outputs": []
    },
    {
      "cell_type": "markdown",
      "source": [
        "Resize image"
      ],
      "metadata": {
        "id": "iQXog3TQaU7O"
      }
    },
    {
      "cell_type": "code",
      "source": [
        " path =  Path('/content/gdrive/MyDrive/study/Publications/2022/IEEE-CEC-2022/physical-loss')\n",
        " imgPath = path/'ToyDataset'\n",
        " imgList = imgPath.ls()\n",
        " imgPath.ls()"
      ],
      "metadata": {
        "colab": {
          "base_uri": "https://localhost:8080/"
        },
        "id": "tDbZIropJMjw",
        "outputId": "46a42f84-ea6a-4111-9703-cb0947397f2e"
      },
      "execution_count": 4,
      "outputs": [
        {
          "output_type": "execute_result",
          "data": {
            "text/plain": [
              "(#3) [Path('/content/gdrive/MyDrive/study/Publications/2022/IEEE-CEC-2022/physical-loss/ToyDataset/Parallel plates and ball.png'),Path('/content/gdrive/MyDrive/study/Publications/2022/IEEE-CEC-2022/physical-loss/ToyDataset/Parallel plates with notch.png'),Path('/content/gdrive/MyDrive/study/Publications/2022/IEEE-CEC-2022/physical-loss/ToyDataset/Parallel plates.png')]"
            ]
          },
          "metadata": {},
          "execution_count": 4
        }
      ]
    },
    {
      "cell_type": "code",
      "source": [
        "imgTest = Image.open(imgList[2]) \n",
        "imgTest"
      ],
      "metadata": {
        "colab": {
          "base_uri": "https://localhost:8080/",
          "height": 143
        },
        "id": "LAlSQgN7oVTk",
        "outputId": "15b16430-73e4-465a-9099-48b3d419e89b"
      },
      "execution_count": 8,
      "outputs": [
        {
          "output_type": "execute_result",
          "data": {
            "image/png": "[encoded data removed]",
            "text/plain": [
              "<PIL.PngImagePlugin.PngImageFile image mode=RGBA size=126x126 at 0x7FC2D643A8D0>"
            ]
          },
          "metadata": {},
          "execution_count": 8
        }
      ]
    },
    {
      "cell_type": "code",
      "source": [
        "tensor(imgTest)[120:130, 120:130]"
      ],
      "metadata": {
        "colab": {
          "base_uri": "https://localhost:8080/"
        },
        "id": "j2-5-AaHpMmQ",
        "outputId": "3e1da47d-68ea-4f41-9dd0-784234cb4699"
      },
      "execution_count": 6,
      "outputs": [
        {
          "output_type": "execute_result",
          "data": {
            "text/plain": [
              "tensor([[[  0,   0, 255, 255],\n",
              "         [  0,   0, 255, 255],\n",
              "         [  0,   0, 255, 255],\n",
              "         [  0,   0, 255, 255],\n",
              "         [  0,   0, 255, 255],\n",
              "         [  0,   0, 255, 255]],\n",
              "\n",
              "        [[  0,   0, 255, 255],\n",
              "         [  0,   0, 255, 255],\n",
              "         [  0,   0, 255, 255],\n",
              "         [  0,   0, 255, 255],\n",
              "         [  0,   0, 255, 255],\n",
              "         [  0,   0, 255, 255]],\n",
              "\n",
              "        [[  0,   0, 255, 255],\n",
              "         [  0,   0, 255, 255],\n",
              "         [  0,   0, 255, 255],\n",
              "         [  0,   0, 255, 255],\n",
              "         [  0,   0, 255, 255],\n",
              "         [  0,   0, 255, 255]],\n",
              "\n",
              "        [[  0,   0, 255, 255],\n",
              "         [  0,   0, 255, 255],\n",
              "         [  0,   0, 255, 255],\n",
              "         [  0,   0, 255, 255],\n",
              "         [  0,   0, 255, 255],\n",
              "         [  0,   0, 255, 255]],\n",
              "\n",
              "        [[  0,   0, 255, 255],\n",
              "         [  0,   0, 255, 255],\n",
              "         [  0,   0, 255, 255],\n",
              "         [  0,   0, 255, 255],\n",
              "         [  0,   0, 255, 255],\n",
              "         [  0,   0, 255, 255]],\n",
              "\n",
              "        [[  0,   0, 255, 255],\n",
              "         [  0,   0, 255, 255],\n",
              "         [  0,   0, 255, 255],\n",
              "         [  0,   0, 255, 255],\n",
              "         [  0,   0, 255, 255],\n",
              "         [  0,   0, 255, 255]]], dtype=torch.uint8)"
            ]
          },
          "metadata": {},
          "execution_count": 6
        }
      ]
    }
  ]
}